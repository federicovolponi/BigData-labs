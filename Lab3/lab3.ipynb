{
 "cells": [
  {
   "cell_type": "markdown",
   "id": "bef40e65-5e5d-41b3-b88e-bfb740546b18",
   "metadata": {},
   "source": [
    "# LABORATORY 3\n",
    "### RDD SOLUTION"
   ]
  },
  {
   "cell_type": "code",
   "execution_count": 1,
   "id": "1eec709c-3620-4634-be01-ddbf6978957f",
   "metadata": {},
   "outputs": [],
   "source": [
    "registerRDD = sc.textFile(\"/data/students/bigdata_internet/lab3/register.csv\")\n",
    "stationsRDD = sc.textFile(\"/data/students/bigdata_internet/lab3/stations.csv\")"
   ]
  },
  {
   "cell_type": "code",
   "execution_count": 2,
   "id": "ce264941-d57c-4aa9-9668-efc2505c3df7",
   "metadata": {},
   "outputs": [
    {
     "name": "stderr",
     "output_type": "stream",
     "text": [
      "                                                                                \r"
     ]
    }
   ],
   "source": [
    "# remove the header\n",
    "headerRegister = registerRDD.first()\n",
    "registerRDD = registerRDD.filter(lambda x: x!= headerRegister)\n",
    "headerStations = stationsRDD.first()\n",
    "stationsRDD = stationsRDD.filter(lambda x: x!= headerStations)"
   ]
  },
  {
   "cell_type": "code",
   "execution_count": 3,
   "id": "910e0982-7b65-4dd5-82b0-ffb842790c06",
   "metadata": {},
   "outputs": [],
   "source": [
    "# split the data by \\t\n",
    "registerSplitRDD = registerRDD.map(lambda x: x.split(\"\\t\"))\n",
    "stationsSplitRDD = stationsRDD.map(lambda x: x.split(\"\\t\"))"
   ]
  },
  {
   "cell_type": "code",
   "execution_count": 4,
   "id": "e33954ab-a402-4bee-a638-a1325d81b7a6",
   "metadata": {},
   "outputs": [],
   "source": [
    "# filter wrong data (used_slots = 0 and free_slots = 0)\n",
    "filterRegisterRDD = registerSplitRDD.filter\\\n",
    "(lambda l: int(l[2]) != 0 or int(l[3]) != 0)"
   ]
  },
  {
   "cell_type": "markdown",
   "id": "2b32edaa-b6c8-4df0-8627-9a1feba55d45",
   "metadata": {},
   "source": [
    "#### 1.1.1 How many rows of data we obtain before and after the data cleaning above?"
   ]
  },
  {
   "cell_type": "code",
   "execution_count": 5,
   "id": "6179b791-3a14-4757-9ec0-1be402df7691",
   "metadata": {},
   "outputs": [
    {
     "name": "stderr",
     "output_type": "stream",
     "text": [
      "                                                                                \r"
     ]
    },
    {
     "name": "stdout",
     "output_type": "stream",
     "text": [
      "Before data cleaning:  25319028\n"
     ]
    },
    {
     "name": "stderr",
     "output_type": "stream",
     "text": [
      "[Stage 3:=================================================>         (5 + 1) / 6]"
     ]
    },
    {
     "name": "stdout",
     "output_type": "stream",
     "text": [
      "After data cleaning:  25104121\n"
     ]
    },
    {
     "name": "stderr",
     "output_type": "stream",
     "text": [
      "                                                                                \r"
     ]
    }
   ],
   "source": [
    "print(\"Before data cleaning: \",registerSplitRDD.count())\n",
    "print(\"After data cleaning: \",filterRegisterRDD.count())"
   ]
  },
  {
   "cell_type": "markdown",
   "id": "eb1bab13-5603-4341-ade6-21a21c04e9ae",
   "metadata": {},
   "source": [
    "#### 2.1. Computes the criticality value"
   ]
  },
  {
   "cell_type": "code",
   "execution_count": 6,
   "id": "4351dcff-df3a-4891-b6a3-f790dab82e70",
   "metadata": {},
   "outputs": [],
   "source": [
    "from datetime import datetime\n",
    "# function to determine if a station is critical (free_slots = 0)\n",
    "def isCritical(slots):\n",
    "    if int(slots) == 0:\n",
    "        return 1\n",
    "    else:\n",
    "        return 0"
   ]
  },
  {
   "cell_type": "code",
   "execution_count": 7,
   "id": "c6a05c88-ea10-48e0-96d8-01af3af42f7b",
   "metadata": {},
   "outputs": [
    {
     "data": {
      "text/plain": [
       "[(('Thursday', '12', '1'), [1, 0]), (('Thursday', '12', '1'), [1, 0])]"
      ]
     },
     "execution_count": 7,
     "metadata": {},
     "output_type": "execute_result"
    }
   ],
   "source": [
    "# extract from date: name of the day and hour\n",
    "# exploit isCritical() function to give 0 or 1 for non critical or for critical \n",
    "# final format [(day, hour, id), (1, isCritical)] \n",
    "weekdayRegisterRDD = filterRegisterRDD.\\\n",
    "map(lambda date: ((datetime.strptime(date[1], \"%Y-%m-%d %H:%M:%S\")\\\n",
    ".strftime(\"%A\"), datetime.strptime(date[1], \"%Y-%m-%d %H:%M:%S\").strftime(\"%H\")\\\n",
    ", date[0]), [1, isCritical(date[3])]))\n",
    "weekdayRegisterRDD.take(2)"
   ]
  },
  {
   "cell_type": "code",
   "execution_count": 8,
   "id": "a45058b3-9211-44aa-8efc-b2badf4d8fd6",
   "metadata": {},
   "outputs": [],
   "source": [
    "# sum the 1 values and the number of criticals \n",
    "registerReadingsRDD = weekdayRegisterRDD.reduceByKey\\\n",
    "(lambda read1, read2: [read1[0] + read2[0], read1[1] + read2[1]])"
   ]
  },
  {
   "cell_type": "code",
   "execution_count": 9,
   "id": "09bb47b6-8114-4b55-90a6-d82d470a61a1",
   "metadata": {},
   "outputs": [
    {
     "name": "stderr",
     "output_type": "stream",
     "text": [
      "                                                                                \r"
     ]
    },
    {
     "data": {
      "text/plain": [
       "[(('Friday', '13', '160'), 0.0), (('Friday', '18', '160'), 0.0)]"
      ]
     },
     "execution_count": 9,
     "metadata": {},
     "output_type": "execute_result"
    }
   ],
   "source": [
    "# compute criticality\n",
    "criticalityRDD = registerReadingsRDD.map(lambda l: (l[0], l[1][1]/l[1][0]))\n",
    "criticalityRDD.take(2)"
   ]
  },
  {
   "cell_type": "markdown",
   "id": "eb14289c-0199-41e0-9bbf-da240258f69c",
   "metadata": {},
   "source": [
    "#### 2.2. Selects only the critical pairs"
   ]
  },
  {
   "cell_type": "code",
   "execution_count": 10,
   "id": "f6449901-f2ce-4f89-a34e-cd33917580cc",
   "metadata": {},
   "outputs": [],
   "source": [
    "threshold = 0.6\n",
    "filterCriticalyRDD = criticalityRDD.filter(lambda crit: crit[1] > threshold)"
   ]
  },
  {
   "cell_type": "code",
   "execution_count": 11,
   "id": "41ddaf1c-2ce7-42f2-a9e8-a42596003615",
   "metadata": {},
   "outputs": [
    {
     "name": "stdout",
     "output_type": "stream",
     "text": [
      "[(('Monday', '01', '58'), 0.6239554317548747), (('Saturday', '00', '10'), 0.622107969151671)]\n"
     ]
    }
   ],
   "source": [
    "print(filterCriticalyRDD.take(2))"
   ]
  },
  {
   "cell_type": "markdown",
   "id": "c3e1b6f7-7739-432d-a563-5047c056b23b",
   "metadata": {},
   "source": [
    "#### 2.3. Order the results by increasing criticality"
   ]
  },
  {
   "cell_type": "code",
   "execution_count": 12,
   "id": "7b373568-5b02-4d13-aee6-c5c4fcc1dfa6",
   "metadata": {},
   "outputs": [],
   "source": [
    "# function to convert day name into number\n",
    "def dayConversion(day):\n",
    "    if day == \"Monday\":\n",
    "        return 1\n",
    "    elif day == \"Tuesday\":\n",
    "        return 2\n",
    "    elif day == \"Wednesday\":\n",
    "        return 3\n",
    "    elif day == \"Thursday\":\n",
    "        return 4\n",
    "    elif day == \"Friday\":\n",
    "        return 5\n",
    "    elif day == \"Saturday\":\n",
    "        return 6\n",
    "    elif day == \"Sunday\":\n",
    "        return 7"
   ]
  },
  {
   "cell_type": "code",
   "execution_count": 13,
   "id": "c6633298-7e79-49fd-bd9f-c3edecd7780f",
   "metadata": {},
   "outputs": [],
   "source": [
    "# sort by criticality, id value, day of the week and hour\n",
    "sortCritcalityRDD = filterCriticalyRDD\\\n",
    ".sortBy(lambda l: (l[1], l[0][2], dayConversion(l[0][0]), l[0][1]))"
   ]
  },
  {
   "cell_type": "code",
   "execution_count": 14,
   "id": "82cc226b-778d-472d-923a-365b79c4de74",
   "metadata": {},
   "outputs": [
    {
     "name": "stdout",
     "output_type": "stream",
     "text": [
      "[(('Friday', '10', '9'), 0.6129032258064516), (('Saturday', '00', '10'), 0.622107969151671), (('Monday', '01', '58'), 0.6239554317548747), (('Friday', '22', '9'), 0.6258389261744967), (('Monday', '00', '58'), 0.6323119777158774)]\n"
     ]
    }
   ],
   "source": [
    "print(sortCritcalityRDD.take(5))"
   ]
  },
  {
   "cell_type": "markdown",
   "id": "9cc33287-33d0-45c6-b6dc-fbc3f11395e6",
   "metadata": {},
   "source": [
    "#### 2.4.  Store the sorted critical pairs in the output folder (also an argument of the application), by using a csv files (with header), where columns are separated by \"tab\""
   ]
  },
  {
   "cell_type": "code",
   "execution_count": 60,
   "id": "76caa29c-441a-40f9-9a56-05a960d4d335",
   "metadata": {},
   "outputs": [],
   "source": [
    "# map to set id as key for register\n",
    "sortedCriticalityRDD = sortCritcalityRDD\\\n",
    ".map(lambda l: (l[0][2], [l[0][0], l[0][1], l[1]]))"
   ]
  },
  {
   "cell_type": "code",
   "execution_count": 16,
   "id": "528c8bf4-ab51-47fb-896c-e3d743334fb1",
   "metadata": {},
   "outputs": [],
   "source": [
    "# map to set id as key for stations\n",
    "stationsSplitRDD = stationsSplitRDD.map(lambda l: (l[0], [l[1], l[2]]))"
   ]
  },
  {
   "cell_type": "code",
   "execution_count": 17,
   "id": "2948cdaa-8725-410c-98b6-f42c963f5efe",
   "metadata": {},
   "outputs": [],
   "source": [
    "joinStationsCriticalityRDD = stationsSplitRDD.join(sortedCriticalityRDD)"
   ]
  },
  {
   "cell_type": "code",
   "execution_count": 62,
   "id": "ac1fac27-0a92-4daf-855a-38a5cac3fbf3",
   "metadata": {},
   "outputs": [],
   "source": [
    "# insert tab to properly save the file\n",
    "outputRDD = joinStationsCriticalityRDD\\\n",
    ".map(lambda x: \\\n",
    "f\"{x[0]}\\t{x[1][0][0]}\\t{x[1][0][1]}\\t{x[1][1][0]}\\t{x[1][1][1]}\\t{x[1][1][2]}\")"
   ]
  },
  {
   "cell_type": "code",
   "execution_count": 20,
   "id": "02e6c25c-7811-4f80-b808-e0cfe7da1ef1",
   "metadata": {},
   "outputs": [
    {
     "name": "stderr",
     "output_type": "stream",
     "text": [
      "                                                                                \r"
     ]
    }
   ],
   "source": [
    "outputRDD.saveAsTextFile(\"/user/s309709/LAB03/es1RDD\")"
   ]
  },
  {
   "cell_type": "markdown",
   "id": "e4bfafc9-df47-4d72-8405-44945cf711a2",
   "metadata": {},
   "source": [
    "#### 2.5. How many critical pairs do you obtain? Report also the complete output result of the applications."
   ]
  },
  {
   "cell_type": "code",
   "execution_count": 21,
   "id": "a02109e0-16b4-42d0-bb4c-ac9b56f89759",
   "metadata": {},
   "outputs": [
    {
     "name": "stdout",
     "output_type": "stream",
     "text": [
      "Critical pairs obtained:  5\n"
     ]
    }
   ],
   "source": [
    "print(\"Critical pairs obtained: \", outputRDD.count())"
   ]
  },
  {
   "cell_type": "code",
   "execution_count": 22,
   "id": "2b5272d6-dafd-4957-a105-8e0f419c0f96",
   "metadata": {},
   "outputs": [
    {
     "name": "stdout",
     "output_type": "stream",
     "text": [
      "['10\\t2.185206\\t41.384875\\tSaturday\\t00\\t0.622107969151671', '9\\t2.185294\\t41.385006\\tFriday\\t10\\t0.6129032258064516', '9\\t2.185294\\t41.385006\\tFriday\\t22\\t0.6258389261744967', '58\\t2.170736\\t41.377536\\tMonday\\t01\\t0.6239554317548747', '58\\t2.170736\\t41.377536\\tMonday\\t00\\t0.6323119777158774']\n"
     ]
    }
   ],
   "source": [
    "print(outputRDD.take(5))"
   ]
  },
  {
   "cell_type": "markdown",
   "id": "a6946e90-212b-47a7-bf5a-e3f64213ea11",
   "metadata": {},
   "source": [
    "### SQL SOLUTION"
   ]
  },
  {
   "cell_type": "code",
   "execution_count": 65,
   "id": "09e69f6b-d9ec-4b28-81d8-bfc9d09c521f",
   "metadata": {},
   "outputs": [
    {
     "name": "stderr",
     "output_type": "stream",
     "text": [
      "                                                                                \r"
     ]
    }
   ],
   "source": [
    "dfRegister = spark.read.load(\"/data/students/bigdata_internet/lab3/register.csv\",\\\n",
    "                             format = \"csv\",\n",
    "                             sep = \"\\t\",\n",
    "                             header = True,\n",
    "                             inferSchema = True)"
   ]
  },
  {
   "cell_type": "code",
   "execution_count": 66,
   "id": "81704c64-d75f-4d13-ab6d-b988ea899e34",
   "metadata": {},
   "outputs": [],
   "source": [
    "dfStations = spark.read.load(\"/data/students/bigdata_internet/lab3/stations.csv\",\\\n",
    "                             format = \"csv\",\n",
    "                             sep = \"\\t\",\n",
    "                             header = True,\n",
    "                             inferSchema = True)"
   ]
  },
  {
   "cell_type": "markdown",
   "id": "a8a7d836-4845-425f-8616-43b2fe1f0eb5",
   "metadata": {},
   "source": [
    "#### 1.1.1 How many rows of data we obtain before and after the data cleaning above?"
   ]
  },
  {
   "cell_type": "code",
   "execution_count": 67,
   "id": "878f2373-d693-44cd-b59e-b167abba3395",
   "metadata": {},
   "outputs": [
    {
     "name": "stderr",
     "output_type": "stream",
     "text": [
      "[Stage 128:==================================================>    (10 + 1) / 11]"
     ]
    },
    {
     "name": "stdout",
     "output_type": "stream",
     "text": [
      "before data cleaning:  25319028\n"
     ]
    },
    {
     "name": "stderr",
     "output_type": "stream",
     "text": [
      "                                                                                \r"
     ]
    }
   ],
   "source": [
    "print(\"before data cleaning: \", dfRegister.count())"
   ]
  },
  {
   "cell_type": "code",
   "execution_count": 68,
   "id": "163ac664-ad8e-471c-9dcc-a9710b32324b",
   "metadata": {},
   "outputs": [],
   "source": [
    "dfRegisterFiltered = dfRegister.where(\"used_slots!=0 or free_slots!=0\")"
   ]
  },
  {
   "cell_type": "code",
   "execution_count": 69,
   "id": "11fe7ace-5086-4e1e-9639-6f7f76a3664f",
   "metadata": {},
   "outputs": [
    {
     "name": "stderr",
     "output_type": "stream",
     "text": [
      "[Stage 130:==================================================>    (10 + 1) / 11]"
     ]
    },
    {
     "name": "stdout",
     "output_type": "stream",
     "text": [
      "After data cleaning:  25104121\n"
     ]
    },
    {
     "name": "stderr",
     "output_type": "stream",
     "text": [
      "                                                                                \r"
     ]
    }
   ],
   "source": [
    "print(\"After data cleaning: \", dfRegisterFiltered.count())"
   ]
  },
  {
   "cell_type": "markdown",
   "id": "37e3d1ae-afbf-40ab-8e36-62328e2ee455",
   "metadata": {},
   "source": [
    "#### 2.1. Computes the criticality value"
   ]
  },
  {
   "cell_type": "code",
   "execution_count": 70,
   "id": "148ab410-bf2b-4883-ac46-dcb8ab6c8e68",
   "metadata": {},
   "outputs": [
    {
     "name": "stderr",
     "output_type": "stream",
     "text": [
      "23/01/12 18:09:15 WARN analysis.SimpleFunctionRegistry: The function iscritical replaced a previously registered function.\n"
     ]
    },
    {
     "data": {
      "text/plain": [
       "<function __main__.isCritical(slots)>"
      ]
     },
     "execution_count": 70,
     "metadata": {},
     "output_type": "execute_result"
    }
   ],
   "source": [
    "# function to determine if a station is critical (free_slots = 0)\n",
    "def isCritical(slots):\n",
    "    if int(slots) == 0:\n",
    "        return 1\n",
    "    else:\n",
    "        return 0\n",
    "\n",
    "spark.udf.register(\"isCritical\", isCritical)"
   ]
  },
  {
   "cell_type": "code",
   "execution_count": 71,
   "id": "100f983f-8c81-4a06-ab0e-6c1e49225653",
   "metadata": {},
   "outputs": [],
   "source": [
    "# convert date in proper format and found critical stations\n",
    "dfTimeslot = dfRegisterFiltered\\\n",
    ".selectExpr(\"station\", \"hour(timestamp) AS hour\",\\\n",
    "           \"date_format(timestamp, 'EEEE') AS day\",\\\n",
    "           'isCritical(free_slots) AS critical')"
   ]
  },
  {
   "cell_type": "code",
   "execution_count": 72,
   "id": "74400fdb-3ced-4d9d-a744-d7443ff565da",
   "metadata": {},
   "outputs": [
    {
     "name": "stderr",
     "output_type": "stream",
     "text": [
      "[Stage 132:>                                                        (0 + 1) / 1]"
     ]
    },
    {
     "name": "stdout",
     "output_type": "stream",
     "text": [
      "+-------+----+--------+--------+\n",
      "|station|hour|     day|critical|\n",
      "+-------+----+--------+--------+\n",
      "|      1|  10|Thursday|       0|\n",
      "|      1|  10|Thursday|       0|\n",
      "|      1|  10|Thursday|       0|\n",
      "+-------+----+--------+--------+\n",
      "only showing top 3 rows\n",
      "\n"
     ]
    },
    {
     "name": "stderr",
     "output_type": "stream",
     "text": [
      "                                                                                \r"
     ]
    }
   ],
   "source": [
    "dfTimeslot.show(3)"
   ]
  },
  {
   "cell_type": "code",
   "execution_count": 73,
   "id": "8b8c4756-df73-4744-a5c6-f756e14cd1ab",
   "metadata": {},
   "outputs": [
    {
     "name": "stderr",
     "output_type": "stream",
     "text": [
      "23/01/12 18:09:16 WARN analysis.SimpleFunctionRegistry: The function division replaced a previously registered function.\n"
     ]
    },
    {
     "data": {
      "text/plain": [
       "<function __main__.<lambda>(x, y)>"
      ]
     },
     "execution_count": 73,
     "metadata": {},
     "output_type": "execute_result"
    }
   ],
   "source": [
    "spark.udf.register(\"division\", lambda x,y: float(x/y))"
   ]
  },
  {
   "cell_type": "code",
   "execution_count": 74,
   "id": "aa1e43ad-8de8-4bbd-ad7a-05e0e2e33e86",
   "metadata": {},
   "outputs": [],
   "source": [
    "# evaluate criticality\n",
    "dfCritcality = dfTimeslot.groupBy(\"station\", \"hour\", \"day\")\\\n",
    ".agg({\"station\":\"count\", \"critical\":\"sum\"})\\\n",
    ".withColumnRenamed(\"count(station)\", \"total\")\\\n",
    ".withColumnRenamed(\"sum(critical)\", \"critical\")"
   ]
  },
  {
   "cell_type": "code",
   "execution_count": 75,
   "id": "f2e23693-da8b-4139-99fc-f191abf13461",
   "metadata": {},
   "outputs": [],
   "source": [
    "dfCritcality = dfCritcality\\\n",
    ".selectExpr(\"station\", \"hour\", \"day\", \"division(critical,total) AS criticality\")"
   ]
  },
  {
   "cell_type": "code",
   "execution_count": 76,
   "id": "04bcad37-502c-45a5-abd5-d93009a99edf",
   "metadata": {
    "tags": []
   },
   "outputs": [
    {
     "name": "stderr",
     "output_type": "stream",
     "text": [
      "[Stage 133:==================================================>    (10 + 1) / 11]"
     ]
    },
    {
     "name": "stdout",
     "output_type": "stream",
     "text": [
      "+-------+----+---------+-------------------+\n",
      "|station|hour|      day|        criticality|\n",
      "+-------+----+---------+-------------------+\n",
      "|     54|  14|   Friday|0.07190635451505016|\n",
      "|     55|   0|Wednesday|                0.0|\n",
      "|     59|  16|   Friday|0.19630872483221476|\n",
      "+-------+----+---------+-------------------+\n",
      "only showing top 3 rows\n",
      "\n"
     ]
    },
    {
     "name": "stderr",
     "output_type": "stream",
     "text": [
      "                                                                                \r"
     ]
    }
   ],
   "source": [
    "dfCritcality.show(3)"
   ]
  },
  {
   "cell_type": "code",
   "execution_count": 77,
   "id": "ac2c860a-193a-4ea8-9d6e-c4504bae7b6c",
   "metadata": {},
   "outputs": [
    {
     "name": "stderr",
     "output_type": "stream",
     "text": [
      "23/01/12 18:09:34 WARN analysis.SimpleFunctionRegistry: The function dayconversion replaced a previously registered function.\n"
     ]
    },
    {
     "data": {
      "text/plain": [
       "<function __main__.dayConversion(day)>"
      ]
     },
     "execution_count": 77,
     "metadata": {},
     "output_type": "execute_result"
    }
   ],
   "source": [
    "# function to convert day name into number\n",
    "def dayConversion(day):\n",
    "    if day == \"Monday\":\n",
    "        return 1\n",
    "    elif day == \"Tuesday\":\n",
    "        return 2\n",
    "    elif day == \"Wednesday\":\n",
    "        return 3\n",
    "    elif day == \"Thursday\":\n",
    "        return 4\n",
    "    elif day == \"Friday\":\n",
    "        return 5\n",
    "    elif day == \"Saturday\":\n",
    "        return 6\n",
    "    elif day == \"Sunday\":\n",
    "        return 7\n",
    "    \n",
    "spark.udf.register(\"dayConversion\", dayConversion)"
   ]
  },
  {
   "cell_type": "markdown",
   "id": "9ece0013-c234-4563-a694-3df9905e4fad",
   "metadata": {},
   "source": [
    "#### 2.2. Selects only the critical pairs"
   ]
  },
  {
   "cell_type": "markdown",
   "id": "f0af3142-e34a-46ea-a057-93dd0b42ceaf",
   "metadata": {},
   "source": [
    "#### 2.3. Order the results by increasing criticality"
   ]
  },
  {
   "cell_type": "code",
   "execution_count": 78,
   "id": "3d58385c-5452-41f8-88bb-c6f10d9f6636",
   "metadata": {},
   "outputs": [],
   "source": [
    "dfCriticalFilter = dfCritcality.where(\"criticality >= 0.6\")\\\n",
    ".selectExpr\\\n",
    "(\"station\", \"hour\", \"day\", \"criticality\", \"dayConversion(day) AS dayNum\")\\\n",
    ".sort(\"criticality\", \"station\", \"dayNum\", \"hour\")\\\n",
    ".select(\"station\", \"hour\", \"day\", \"criticality\")   "
   ]
  },
  {
   "cell_type": "code",
   "execution_count": 79,
   "id": "7f66a3bc-bed7-412d-bb9e-31c0f89cd86f",
   "metadata": {},
   "outputs": [
    {
     "name": "stderr",
     "output_type": "stream",
     "text": [
      "[Stage 136:============================>                       (111 + 13) / 200]"
     ]
    },
    {
     "name": "stdout",
     "output_type": "stream",
     "text": [
      "+-------+----+------+------------------+\n",
      "|station|hour|   day|       criticality|\n",
      "+-------+----+------+------------------+\n",
      "|      9|   8|Friday|0.6129032258064516|\n",
      "|     10|  22|Friday| 0.622107969151671|\n",
      "|     58|  23|Sunday|0.6239554317548747|\n",
      "|      9|  20|Friday|0.6258389261744967|\n",
      "|     58|  22|Sunday|0.6323119777158774|\n",
      "+-------+----+------+------------------+\n",
      "\n"
     ]
    },
    {
     "name": "stderr",
     "output_type": "stream",
     "text": [
      "                                                                                \r"
     ]
    }
   ],
   "source": [
    "dfCriticalFilter.show()"
   ]
  },
  {
   "cell_type": "markdown",
   "id": "b83898ef-3a35-4497-941f-0dc148e61002",
   "metadata": {},
   "source": [
    "#### 2.4. Store the sorted critical pairs in the output folder (also an argument of the application), by using a csv files (with header), where columns are separated by \"tab\""
   ]
  },
  {
   "cell_type": "code",
   "execution_count": 80,
   "id": "fd0ec847-624a-491a-bccb-9fd85e9b67b7",
   "metadata": {},
   "outputs": [],
   "source": [
    "dfJoin = dfStations\\\n",
    ".join(dfCriticalFilter, dfCriticalFilter.station == dfStations.id)"
   ]
  },
  {
   "cell_type": "code",
   "execution_count": 81,
   "id": "667d3e5d-36af-444a-82da-3a9b08031561",
   "metadata": {},
   "outputs": [],
   "source": [
    "outputDF = dfJoin.select(\"id\", \"longitude\", \"latitude\", \"day\", \"hour\", \"criticality\")"
   ]
  },
  {
   "cell_type": "code",
   "execution_count": null,
   "id": "f461702f-4294-4a19-95f6-8411fe04e0db",
   "metadata": {},
   "outputs": [],
   "source": [
    "outputDF.write.csv(\"/user/s309709/LAB03/es1_sql\",sep= \"\\t\",  header=True)"
   ]
  },
  {
   "cell_type": "markdown",
   "id": "a09c9405-2e44-4979-ae71-01453f1eac45",
   "metadata": {},
   "source": [
    "#### 2.5. How many critical pairs do you obtain? Report also the complete output result of the applications"
   ]
  },
  {
   "cell_type": "code",
   "execution_count": 83,
   "id": "4fd3c4b4-79aa-4eea-9182-c0ca73712e21",
   "metadata": {},
   "outputs": [
    {
     "name": "stderr",
     "output_type": "stream",
     "text": [
      "[Stage 142:=========================================>          (161 + 13) / 200]"
     ]
    },
    {
     "name": "stdout",
     "output_type": "stream",
     "text": [
      "Critical pairs obtained:  5\n"
     ]
    },
    {
     "name": "stderr",
     "output_type": "stream",
     "text": [
      "                                                                                \r"
     ]
    }
   ],
   "source": [
    "print(\"Critical pairs obtained: \", outputDF.count())"
   ]
  },
  {
   "cell_type": "code",
   "execution_count": 84,
   "id": "d785c7c4-0c60-4d59-96b8-ac3a8ccda4ee",
   "metadata": {},
   "outputs": [
    {
     "name": "stderr",
     "output_type": "stream",
     "text": [
      "[Stage 149:============================================>       (172 + 11) / 200]"
     ]
    },
    {
     "name": "stdout",
     "output_type": "stream",
     "text": [
      "+---+---------+---------+------+----+------------------+\n",
      "| id|longitude| latitude|   day|hour|       criticality|\n",
      "+---+---------+---------+------+----+------------------+\n",
      "|  9| 2.185294|41.385006|Friday|   8|0.6129032258064516|\n",
      "| 10| 2.185206|41.384875|Friday|  22| 0.622107969151671|\n",
      "| 58| 2.170736|41.377536|Sunday|  23|0.6239554317548747|\n",
      "|  9| 2.185294|41.385006|Friday|  20|0.6258389261744967|\n",
      "| 58| 2.170736|41.377536|Sunday|  22|0.6323119777158774|\n",
      "+---+---------+---------+------+----+------------------+\n",
      "\n"
     ]
    },
    {
     "name": "stderr",
     "output_type": "stream",
     "text": [
      "                                                                                \r"
     ]
    }
   ],
   "source": [
    "outputDF.show()"
   ]
  }
 ],
 "metadata": {
  "kernelspec": {
   "display_name": "PySpark (Yarn)",
   "language": "python",
   "name": "pyspark_yarn"
  },
  "language_info": {
   "codemirror_mode": {
    "name": "ipython",
    "version": 3
   },
   "file_extension": ".py",
   "mimetype": "text/x-python",
   "name": "python",
   "nbconvert_exporter": "python",
   "pygments_lexer": "ipython3",
   "version": "3.7.9"
  }
 },
 "nbformat": 4,
 "nbformat_minor": 5
}
