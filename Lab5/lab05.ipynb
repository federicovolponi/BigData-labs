{
 "cells": [
  {
   "cell_type": "markdown",
   "id": "727d63dc-2148-4bd9-b946-ea68b5c617c3",
   "metadata": {},
   "source": [
    "# Laboratory 5 - Graph analytics with Spark GraphFrames"
   ]
  },
  {
   "cell_type": "markdown",
   "id": "962cc8cc-7dd0-4406-adc5-b24a823182f6",
   "metadata": {},
   "source": [
    "## 1. Input Data"
   ]
  },
  {
   "cell_type": "code",
   "execution_count": null,
   "id": "99a4dc56-cf90-4914-ae40-09c1c10797c1",
   "metadata": {},
   "outputs": [],
   "source": [
    "airportsDF = spark.read.load(\"/data/students/bigdata_internet/lab5/airports.csv\",\\\n",
    "                             format = \"csv\",\n",
    "                             sep = \",\",\n",
    "                             header = True,\n",
    "                             inferSchema = True)\n",
    "airportsDF.createOrReplaceTempView('airportsTab')"
   ]
  },
  {
   "cell_type": "code",
   "execution_count": 2,
   "id": "db12493b-1cb9-4380-8cbc-235ce90cc4e6",
   "metadata": {},
   "outputs": [],
   "source": [
    "airlinesDF = spark.read.load(\"/data/students/bigdata_internet/lab5/airlines.csv\",\\\n",
    "                             format = \"csv\",\n",
    "                             sep = \",\",\n",
    "                             header = True,\n",
    "                             inferSchema = True)\n",
    "airlinesDF.createOrReplaceTempView(\"airlinesTab\")"
   ]
  },
  {
   "cell_type": "code",
   "execution_count": null,
   "id": "da0b5302-305c-4df4-98e2-4648ef224dbc",
   "metadata": {},
   "outputs": [],
   "source": [
    "routesDF = spark.read.load(\"/data/students/bigdata_internet/lab5/routes.csv\",\\\n",
    "                             format = \"csv\",\n",
    "                             sep = \",\",\n",
    "                             header = True,\n",
    "                             inferSchema = True)\n",
    "routesDF.createOrReplaceTempView(\"routesTab\")"
   ]
  },
  {
   "cell_type": "markdown",
   "id": "2ed19cb6-38bf-4896-b281-ce6a8d153bd4",
   "metadata": {},
   "source": [
    "## 2. Top airports and airlines"
   ]
  },
  {
   "cell_type": "markdown",
   "id": "36d37580-a2e5-46a1-a937-7696333e193a",
   "metadata": {},
   "source": [
    "### 2.1) Which are the countries in the world with more than 200 airports? Reports these countries and their number of airports (in ascending order)."
   ]
  },
  {
   "cell_type": "code",
   "execution_count": 4,
   "id": "f011b478-bb79-4c93-93f3-6c94e7aac967",
   "metadata": {},
   "outputs": [],
   "source": [
    "AirportsCountryDF = airportsDF.groupBy('country').agg({'country':'count'})\\\n",
    ".withColumnRenamed('count(country)','n_airports').where('n_airports >= 200')\\\n",
    ".sort('n_airports', ascending=True)"
   ]
  },
  {
   "cell_type": "code",
   "execution_count": 5,
   "id": "ccaa4c88-0a65-4c9a-8bca-f622ad27c7bd",
   "metadata": {},
   "outputs": [
    {
     "name": "stderr",
     "output_type": "stream",
     "text": [
      "[Stage 7:======================================================>(199 + 1) / 200]"
     ]
    },
    {
     "name": "stdout",
     "output_type": "stream",
     "text": [
      "+-------------+----------+\n",
      "|      country|n_airports|\n",
      "+-------------+----------+\n",
      "|       France|       217|\n",
      "|        China|       241|\n",
      "|      Germany|       249|\n",
      "|       Russia|       264|\n",
      "|       Brazil|       264|\n",
      "|    Australia|       334|\n",
      "|       Canada|       430|\n",
      "|United States|      1512|\n",
      "+-------------+----------+\n",
      "\n"
     ]
    },
    {
     "name": "stderr",
     "output_type": "stream",
     "text": [
      "                                                                                \r"
     ]
    }
   ],
   "source": [
    "AirportsCountryDF.show(8)"
   ]
  },
  {
   "cell_type": "markdown",
   "id": "e5db655e-8c66-433a-ba54-ee704cce3781",
   "metadata": {},
   "source": [
    "### 2.2) Which countries have the highest airports (in terms of altitude)? Reports the TOP-5 countries,their highest airport and its corresponding altitude in meters (in descending order)"
   ]
  },
  {
   "cell_type": "code",
   "execution_count": 6,
   "id": "90cfc89f-e199-4991-a7c1-c73d8937e0a5",
   "metadata": {},
   "outputs": [],
   "source": [
    "CountryAirportDF = \\\n",
    "spark.sql('SELECT country, MAX(altitude) AS max_altitude\\\n",
    "        FROM airportsTab\\\n",
    "        GROUP BY country')\n",
    "CountryAirportDF.createOrReplaceTempView('CountryAirportTab')"
   ]
  },
  {
   "cell_type": "code",
   "execution_count": 7,
   "id": "e40a542d-7b31-4097-ad83-2e8cda1706e9",
   "metadata": {},
   "outputs": [],
   "source": [
    "highestAirpotDF = \\\n",
    "spark.sql('SELECT at.country, at.name, (at.altitude/3.281) AS altitude\\\n",
    "        FROM CountryAirportTab AS cat, airportsTab AS at\\\n",
    "        WHERE at.country == cat.country AND altitude == cat.max_altitude\\\n",
    "        ORDER BY altitude DESC')"
   ]
  },
  {
   "cell_type": "code",
   "execution_count": 8,
   "id": "703b743d-08ad-4781-afa6-a31fc1bea2bf",
   "metadata": {},
   "outputs": [
    {
     "name": "stderr",
     "output_type": "stream",
     "text": [
      "[Stage 10:>                                                         (0 + 1) / 1]"
     ]
    },
    {
     "name": "stdout",
     "output_type": "stream",
     "text": [
      "+---------+--------------------+-----------+\n",
      "|  country|                name|   altitude|\n",
      "+---------+--------------------+-----------+\n",
      "|    China|Daocheng Yading A...|4410.850351|\n",
      "|  Bolivia|El Alto Internati...|4070.405364|\n",
      "|     Peru|Inca Manco Capac ...|3825.662908|\n",
      "|    Nepal|  Syangboche Airport|3779.335568|\n",
      "|Argentina|   La Quiaca Airport|3478.817434|\n",
      "+---------+--------------------+-----------+\n",
      "only showing top 5 rows\n",
      "\n"
     ]
    },
    {
     "name": "stderr",
     "output_type": "stream",
     "text": [
      "                                                                                \r"
     ]
    }
   ],
   "source": [
    "highestAirpotDF.show(5)"
   ]
  },
  {
   "cell_type": "markdown",
   "id": "e48e3904-e87c-44df-90f2-62ffb7ed0326",
   "metadata": {},
   "source": [
    "### 2.3) Which are the Top-10 routes in the world? Routes are identified by airport source and airport destination, independently on the airline. For each route in the Top-10, provide the source airport name and city, the destination airport name and city, and the number of routes (in descending order)."
   ]
  },
  {
   "cell_type": "code",
   "execution_count": 9,
   "id": "f4cf6129-8d64-4a66-a235-a2c8240bbe18",
   "metadata": {},
   "outputs": [],
   "source": [
    "tmpRoutesDF =\\\n",
    "spark.sql('SELECT airport_source, airport_destination, count(*) as n_routes\\\n",
    "        FROM routesTab\\\n",
    "        GROUP BY airport_source, airport_destination')\n",
    "tmpRoutesDF.createOrReplaceTempView('tmpRoutesTab')"
   ]
  },
  {
   "cell_type": "code",
   "execution_count": 10,
   "id": "415ba767-351c-4308-96b7-bad2096da0b7",
   "metadata": {},
   "outputs": [],
   "source": [
    "topRoutesDF =\\\n",
    "spark.sql\\\n",
    "('SELECT atSrc.name, atSrc.city, atDst.name, atDst.city, tmp.n_routes\\\n",
    "FROM airportsTab AS atSrc, tmpRoutesTab AS tmp, airportsTab AS atDst \\\n",
    "WHERE atSrc.iata == tmp.airport_source AND atDst.iata == tmp.airport_destination\\\n",
    "GROUP BY atSrc.name, atSrc.city, atDst.name, atDst.city, tmp.n_routes\\\n",
    "ORDER BY tmp.n_routes DESC') \n",
    "                        "
   ]
  },
  {
   "cell_type": "code",
   "execution_count": 11,
   "id": "1484a2dc-764a-46fe-9106-287e7e748137",
   "metadata": {},
   "outputs": [
    {
     "name": "stderr",
     "output_type": "stream",
     "text": [
      "[Stage 14:=====================================================>(198 + 2) / 200]"
     ]
    },
    {
     "name": "stdout",
     "output_type": "stream",
     "text": [
      "+--------------------+---------+--------------------+-----------+--------+\n",
      "|                name|     city|                name|       city|n_routes|\n",
      "+--------------------+---------+--------------------+-----------+--------+\n",
      "|Chicago O'Hare In...|  Chicago|Hartsfield Jackso...|    Atlanta|      20|\n",
      "|Hartsfield Jackso...|  Atlanta|Chicago O'Hare In...|    Chicago|      19|\n",
      "|Chicago O'Hare In...|  Chicago|Louis Armstrong N...|New Orleans|      13|\n",
      "|Phuket Internatio...|   Phuket|Suvarnabhumi Airport|    Bangkok|      13|\n",
      "|Abu Dhabi Interna...|Abu Dhabi|Muscat Internatio...|     Muscat|      12|\n",
      "|Guangzhou Baiyun ...|Guangzhou|Hangzhou Xiaoshan...|   Hangzhou|      12|\n",
      "|Miami Internation...|    Miami|Hartsfield Jackso...|    Atlanta|      12|\n",
      "|Hartsfield Jackso...|  Atlanta|Miami Internation...|      Miami|      12|\n",
      "|Hong Kong Interna...|Hong Kong|Suvarnabhumi Airport|    Bangkok|      12|\n",
      "|London Heathrow A...|   London|John F Kennedy In...|   New York|      12|\n",
      "+--------------------+---------+--------------------+-----------+--------+\n",
      "only showing top 10 rows\n",
      "\n"
     ]
    },
    {
     "name": "stderr",
     "output_type": "stream",
     "text": [
      "                                                                                \r"
     ]
    }
   ],
   "source": [
    "topRoutesDF.show(10)"
   ]
  },
  {
   "cell_type": "markdown",
   "id": "257fa237-a033-492a-80d2-4c1e523d8a0e",
   "metadata": {},
   "source": [
    "## 3. Create the graph of fligth connections"
   ]
  },
  {
   "cell_type": "code",
   "execution_count": 12,
   "id": "75554a85-8b58-4906-8f36-9ad52379b344",
   "metadata": {},
   "outputs": [],
   "source": [
    "v = spark.sql('SELECT id, name\\\n",
    "                FROM airportsTab\\\n",
    "                WHERE iata != \"\\\\\\\\N\"')"
   ]
  },
  {
   "cell_type": "code",
   "execution_count": 13,
   "id": "57fce100-4c65-415b-9f8a-9fc7eae53dac",
   "metadata": {},
   "outputs": [],
   "source": [
    "e = \\\n",
    "spark.sql\\\n",
    "('SELECT rt.airport_source_id AS src, rt.airport_destination_id AS dst, at.iata\\\n",
    "FROM routesTab as rt, airlinesTab as at\\\n",
    "WHERE airport_source_id != \"\\\\\\\\N\" AND airport_destination_id != \"\\\\\\\\N\" AND at.airline_id == rt.airline_id')\n",
    "e.createOrReplaceTempView('eTab')"
   ]
  },
  {
   "cell_type": "markdown",
   "id": "bb4d8158-bcff-4c9d-bb42-8e1027463d7b",
   "metadata": {},
   "source": [
    "### 3.1) How many rows did you filter out?"
   ]
  },
  {
   "cell_type": "code",
   "execution_count": 14,
   "id": "ee83744c-5cb8-478c-a128-b3f63cee5246",
   "metadata": {},
   "outputs": [
    {
     "name": "stderr",
     "output_type": "stream",
     "text": [
      "                                                                                \r"
     ]
    },
    {
     "name": "stdout",
     "output_type": "stream",
     "text": [
      "Number of rows filtered for airports.csv:  1626\n",
      "Number of rows filtered for routes.csv:  898\n"
     ]
    },
    {
     "name": "stderr",
     "output_type": "stream",
     "text": [
      "                                                                                \r"
     ]
    }
   ],
   "source": [
    "print(\"Number of rows filtered for airports.csv: \", airportsDF.count() - v.count())\n",
    "print(\"Number of rows filtered for routes.csv: \", routesDF.count() - e.count())"
   ]
  },
  {
   "cell_type": "code",
   "execution_count": 15,
   "id": "dd8d31d3-462b-4e06-93ff-a375be707b43",
   "metadata": {},
   "outputs": [],
   "source": [
    "from graphframes import GraphFrame\n",
    "v = v.withColumn(\"id\", v.id.cast(\"string\"))\n",
    "v.createOrReplaceTempView('vTab')\n",
    "e = e.withColumn(\"src\", e.src.cast(\"string\"))\n",
    "e = e.withColumn(\"dst\", e.dst.cast(\"string\"))\n",
    "g = GraphFrame(v,e)"
   ]
  },
  {
   "cell_type": "markdown",
   "id": "7e60aa95-9579-41d3-b10c-147f03ab9ad1",
   "metadata": {},
   "source": [
    "## 4. Analyze and process the graph"
   ]
  },
  {
   "cell_type": "markdown",
   "id": "529d5b75-7a72-4c1f-a2fb-54a12470dffb",
   "metadata": {},
   "source": [
    "### 4.1 Which are the airports with the highest ratio of incoming edges over outgoing ones"
   ]
  },
  {
   "cell_type": "code",
   "execution_count": 16,
   "id": "82a68219-8353-4f26-b895-60ad0f50eee6",
   "metadata": {},
   "outputs": [],
   "source": [
    "edgeIn = g.inDegrees\n",
    "edgeIn.createOrReplaceTempView('edgeInTab')"
   ]
  },
  {
   "cell_type": "code",
   "execution_count": 17,
   "id": "d15c2496-e628-4c69-b60c-a240e1e65cff",
   "metadata": {},
   "outputs": [],
   "source": [
    "edgeOut = g.outDegrees\n",
    "edgeOut.createOrReplaceTempView('edgeOutTab')"
   ]
  },
  {
   "cell_type": "code",
   "execution_count": 18,
   "id": "89cefc19-c502-4020-a329-ec4a3162203e",
   "metadata": {},
   "outputs": [],
   "source": [
    "edgeDF = \\\n",
    "spark.sql\n",
    "('SELECT vTab.name, in.id, in.inDegree, out.outDegree, (in.inDegree/out.outDegree) AS ratio\\\n",
    "                    FROM edgeInTab as in, edgeOutTab as out, vTab\\\n",
    "                    WHERE in.id == out.id AND vTab.id == in.id\\\n",
    "                    ORDER BY ratio DESC')"
   ]
  },
  {
   "cell_type": "code",
   "execution_count": 19,
   "id": "67f8b9d0-1b4f-4d17-bfd4-57ac93fcd69e",
   "metadata": {},
   "outputs": [
    {
     "name": "stderr",
     "output_type": "stream",
     "text": [
      "[Stage 30:=====================================================>(199 + 1) / 200]"
     ]
    },
    {
     "name": "stdout",
     "output_type": "stream",
     "text": [
      "+--------------------+----+--------+---------+-----+\n",
      "|                name|  id|inDegree|outDegree|ratio|\n",
      "+--------------------+----+--------+---------+-----+\n",
      "|Portland Internat...|3862|      18|        2|  9.0|\n",
      "|       Banak Airport| 653|       3|        1|  3.0|\n",
      "|    Suavanao Airport|5416|       3|        1|  3.0|\n",
      "|      Yeager Airport|4285|      15|        6|  2.5|\n",
      "|   Longreach Airport|6289|       5|        2|  2.5|\n",
      "+--------------------+----+--------+---------+-----+\n",
      "only showing top 5 rows\n",
      "\n"
     ]
    },
    {
     "name": "stderr",
     "output_type": "stream",
     "text": [
      "                                                                                \r"
     ]
    }
   ],
   "source": [
    "edgeDF.show(5)"
   ]
  },
  {
   "cell_type": "markdown",
   "id": "44605a58-4341-43da-8c3a-7cdb52f99bdd",
   "metadata": {},
   "source": [
    "### 4.2.1 From how many airports can you reach the city of \"Bari\" taking exactly 1 flight?"
   ]
  },
  {
   "cell_type": "code",
   "execution_count": 20,
   "id": "51089ae5-c3ee-4b0c-9bb3-a9332fd93320",
   "metadata": {},
   "outputs": [],
   "source": [
    "motifs = g.find('()-[e]->(b)')"
   ]
  },
  {
   "cell_type": "code",
   "execution_count": 21,
   "id": "9dec6a1c-a375-4854-8989-aa574ece98de",
   "metadata": {},
   "outputs": [
    {
     "name": "stdout",
     "output_type": "stream",
     "text": [
      "Number of flights:  50\n"
     ]
    }
   ],
   "source": [
    "onlyBariDst = motifs.filter((motifs.b.id == 1501))\n",
    "print(\"Number of flights: \", onlyBariDst.count())"
   ]
  },
  {
   "cell_type": "markdown",
   "id": "07e80b50-7b02-44ed-b241-dca71c799b0c",
   "metadata": {},
   "source": [
    "### 4.2.2 How many airports can you reach from the city of \"Bari\" taking exactly 1 flight?"
   ]
  },
  {
   "cell_type": "code",
   "execution_count": 22,
   "id": "d8f7f9e6-69e7-407a-9fcb-c1eee0029399",
   "metadata": {},
   "outputs": [],
   "source": [
    "motifs = g.find('(a)-[e]->()')"
   ]
  },
  {
   "cell_type": "code",
   "execution_count": 23,
   "id": "a2e7cca1-84b7-4f3e-99ee-26d2e9b447a1",
   "metadata": {},
   "outputs": [
    {
     "name": "stdout",
     "output_type": "stream",
     "text": [
      "Number of flights:  50\n"
     ]
    }
   ],
   "source": [
    "onlyBariSrc = motifs.filter((motifs.a.id == 1501))\n",
    "print(\"Number of flights: \", onlyBariSrc.count())"
   ]
  },
  {
   "cell_type": "markdown",
   "id": "d73bf4a4-9488-45f0-b253-3b3ecb0e3fd0",
   "metadata": {},
   "source": [
    "### 4.2.3 Any comments in the numbers? Can you justify the result (consider the node's degrees...)?"
   ]
  },
  {
   "cell_type": "code",
   "execution_count": 24,
   "id": "6dded292-baa7-496e-9f52-0ba4252f0846",
   "metadata": {},
   "outputs": [
    {
     "name": "stderr",
     "output_type": "stream",
     "text": [
      "[Stage 45:====================================>                (138 + 62) / 200]"
     ]
    },
    {
     "name": "stdout",
     "output_type": "stream",
     "text": [
      "+--------------------+----+--------+---------+-----+\n",
      "|                name|  id|inDegree|outDegree|ratio|\n",
      "+--------------------+----+--------+---------+-----+\n",
      "|Bari Karol Wojtył...|1501|      50|       50|  1.0|\n",
      "+--------------------+----+--------+---------+-----+\n",
      "\n"
     ]
    },
    {
     "name": "stderr",
     "output_type": "stream",
     "text": [
      "                                                                                \r"
     ]
    }
   ],
   "source": [
    "edgeDF.where('id == 1501').show()"
   ]
  },
  {
   "cell_type": "markdown",
   "id": "f1793933-ca05-48ac-aa67-b810309465d6",
   "metadata": {},
   "source": [
    "Because the incoming and outgoing degrees are equal to the number of departures from Bari and arrivals to Bari without stopovers, it means that from Bari took place only direct flights."
   ]
  },
  {
   "cell_type": "markdown",
   "id": "e4f4cade-afb3-43b7-bdce-e8f56cfa2d5b",
   "metadata": {
    "tags": []
   },
   "source": [
    "### 4.3 How many airports can you reach from the city of \"Bari\" taking exactly 2 flight?"
   ]
  },
  {
   "cell_type": "code",
   "execution_count": 25,
   "id": "e3f65d29-4208-416c-a78b-83dded8844f8",
   "metadata": {},
   "outputs": [
    {
     "name": "stderr",
     "output_type": "stream",
     "text": [
      "                                                                                \r"
     ]
    },
    {
     "data": {
      "text/plain": [
       "7261"
      ]
     },
     "execution_count": 25,
     "metadata": {},
     "output_type": "execute_result"
    }
   ],
   "source": [
    "motifs = g.find('(a)-[e1]->(b); (b)-[e2]->(c)')\n",
    "onlyBariSrc = motifs.filter((motifs.a.id == 1501))\n",
    "onlyBariSrc.count()"
   ]
  },
  {
   "cell_type": "markdown",
   "id": "b2207bbf-7c9e-499d-87a4-bb0c2d875ba9",
   "metadata": {},
   "source": [
    "## Given the \"Los Angeles International Airport\" and the airport in the city of \"Catania\", compute:"
   ]
  },
  {
   "cell_type": "code",
   "execution_count": 26,
   "id": "9432eece-593e-4bfc-82f8-315e0a26aec7",
   "metadata": {},
   "outputs": [
    {
     "name": "stdout",
     "output_type": "stream",
     "text": [
      "+----+--------------------+-----------+\n",
      "|  id|                name|       city|\n",
      "+----+--------------------+-----------+\n",
      "|1509|Catania-Fontanaro...|    Catania|\n",
      "|3484|Los Angeles Inter...|Los Angeles|\n",
      "+----+--------------------+-----------+\n",
      "\n"
     ]
    }
   ],
   "source": [
    "airportsDF.select('id', 'name', 'city')\\\n",
    ".where('name == \"Los Angeles International Airport\" OR city == \"Catania\"')\\\n",
    ".show()"
   ]
  },
  {
   "cell_type": "markdown",
   "id": "88157e03-e5cb-480b-9a23-2c3c54cd809b",
   "metadata": {},
   "source": [
    "### 4.4.1 From how many airports in the world you can reach \"Los Angeles International Airport\" using less hops than to reach the city of Catania"
   ]
  },
  {
   "cell_type": "code",
   "execution_count": null,
   "id": "815f5c78-01f7-49f6-bae5-6bd7d000217b",
   "metadata": {},
   "outputs": [],
   "source": [
    "id_LA = \"3484\"\n",
    "id_Cat = \"1509\"\n",
    "landmarks = [id_Cat, id_LA]\n",
    "hopsDF = g.shortestPaths(landmarks=landmarks)"
   ]
  },
  {
   "cell_type": "code",
   "execution_count": 28,
   "id": "3b742079-2e5b-44e4-8db3-3b29ce061866",
   "metadata": {},
   "outputs": [
    {
     "name": "stderr",
     "output_type": "stream",
     "text": [
      "                                                                                \r"
     ]
    },
    {
     "data": {
      "text/plain": [
       "3072"
      ]
     },
     "execution_count": 28,
     "metadata": {},
     "output_type": "execute_result"
    }
   ],
   "source": [
    "distDF = hopsDF.select(f'distances.{id_Cat}',f'distances.{id_LA}' )\\\n",
    ".withColumnRenamed(id_Cat, 'd_cat').filter('d_cat IS NOT null')\\\n",
    ".withColumnRenamed(id_LA, 'd_LA').filter('d_LA IS NOT null')\n",
    "distDF.count()"
   ]
  },
  {
   "cell_type": "code",
   "execution_count": 29,
   "id": "32dd969a-0df0-4675-b6c1-f79a883d914a",
   "metadata": {},
   "outputs": [
    {
     "name": "stderr",
     "output_type": "stream",
     "text": [
      "                                                                                \r"
     ]
    },
    {
     "data": {
      "text/plain": [
       "1734"
      ]
     },
     "execution_count": 29,
     "metadata": {},
     "output_type": "execute_result"
    }
   ],
   "source": [
    "distDF.filter('d_LA < d_cat').count()"
   ]
  },
  {
   "cell_type": "markdown",
   "id": "62b1d0e9-e188-4eb5-904e-db34ce3123f2",
   "metadata": {},
   "source": [
    "### 4.4.2 From how many airports in the world you can reach the city of Catania using less hops than to reach \"Los Angeles International Airport\""
   ]
  },
  {
   "cell_type": "code",
   "execution_count": 30,
   "id": "ca7e8bb1-58d3-4b00-9152-24332d69f295",
   "metadata": {},
   "outputs": [
    {
     "name": "stderr",
     "output_type": "stream",
     "text": [
      "                                                                                \r"
     ]
    },
    {
     "data": {
      "text/plain": [
       "136"
      ]
     },
     "execution_count": 30,
     "metadata": {},
     "output_type": "execute_result"
    }
   ],
   "source": [
    "distDF.filter('d_LA > d_cat').count()"
   ]
  },
  {
   "cell_type": "markdown",
   "id": "84e4bb91-9b35-4621-8f74-698ad051305d",
   "metadata": {},
   "source": [
    "### 4.4.3 From how many airports in the world you can reach with the same number of hops Catania and \"Los Angeles International Airport\""
   ]
  },
  {
   "cell_type": "code",
   "execution_count": 41,
   "id": "a8f79fc3-3a5e-4883-98a1-1a0c211b2f03",
   "metadata": {},
   "outputs": [
    {
     "name": "stderr",
     "output_type": "stream",
     "text": [
      "                                                                                \r"
     ]
    },
    {
     "data": {
      "text/plain": [
       "1202"
      ]
     },
     "execution_count": 41,
     "metadata": {},
     "output_type": "execute_result"
    }
   ],
   "source": [
    "distDF.filter('d_LA == d_cat').count()"
   ]
  },
  {
   "cell_type": "markdown",
   "id": "e908862a-aad2-4e45-82c4-67797bb2bbb4",
   "metadata": {},
   "source": [
    "### 4.5 How many connected components of at least two airports are there in the graph? Report the number of connected components and their sizes."
   ]
  },
  {
   "cell_type": "code",
   "execution_count": null,
   "id": "e66b48b3-61b4-45ed-9583-e9b748f341cc",
   "metadata": {},
   "outputs": [],
   "source": [
    "sc.setCheckpointDir(\"LAB05/tmp_ckpts\")"
   ]
  },
  {
   "cell_type": "code",
   "execution_count": null,
   "id": "04689dd7-6632-4eb8-a2c9-d37f922b8daa",
   "metadata": {},
   "outputs": [],
   "source": [
    "g1 = g.dropIsolatedVertices()\n",
    "ConnComp = g1.connectedComponents()"
   ]
  },
  {
   "cell_type": "code",
   "execution_count": 43,
   "id": "cbd43edc-f0a8-4b67-9617-e4b95ee311e1",
   "metadata": {},
   "outputs": [],
   "source": [
    "ConnComp.createOrReplaceTempView(\"connCompTab\")"
   ]
  },
  {
   "cell_type": "code",
   "execution_count": 44,
   "id": "abae5b10-b2d4-4707-9834-560e9150b70d",
   "metadata": {},
   "outputs": [],
   "source": [
    "twoAirportCompDF = \\\n",
    "spark.sql\\\n",
    "('SELECT conncomptab.component, count(conncomptab.component) AS countComp\\\n",
    "FROM connCompTab\\\n",
    "GROUP BY conncomptab.component\\\n",
    "HAVING countComp >= 2\\\n",
    "ORDER BY countComp DESC\\\n",
    "')"
   ]
  },
  {
   "cell_type": "code",
   "execution_count": 45,
   "id": "470ee42b-f5ac-4d41-b90b-5cb04cdaa78d",
   "metadata": {},
   "outputs": [
    {
     "name": "stderr",
     "output_type": "stream",
     "text": [
      "                                                                                \r"
     ]
    },
    {
     "name": "stdout",
     "output_type": "stream",
     "text": [
      "Components with at least two airports:  7\n"
     ]
    }
   ],
   "source": [
    "print(\"Components with at least two airports: \", twoAirportCompDF.count())"
   ]
  },
  {
   "cell_type": "markdown",
   "id": "a7e83207-8c4e-4a1c-992d-b031de1f434c",
   "metadata": {},
   "source": [
    "### 4.6 Consider only the subgraph of the flights that are performed by two different airlines (identified by the ICAO), each involving at least 6 cities. Choose two airlines and plot the subgraph of these flights. Report the name of the cities (of the airports) in the graph."
   ]
  },
  {
   "cell_type": "code",
   "execution_count": 46,
   "id": "c8706ce1-f8e6-46d5-bd69-01895967088f",
   "metadata": {},
   "outputs": [],
   "source": [
    "connect = g.find('(a)-[e1]->(b);(c)-[e2]->(d)')\n",
    "DfGraph = connect.filter(connect.a.id == connect.c.id)\\\n",
    ".filter(connect.b.id == connect.d.id)\\\n",
    ".filter(connect.e1.iata != connect.e2.iata)\n",
    "DfGraph.createOrReplaceTempView(\"conn\")"
   ]
  },
  {
   "cell_type": "code",
   "execution_count": 47,
   "id": "525b763e-11bc-41e7-a3a1-793fc154b1d4",
   "metadata": {},
   "outputs": [],
   "source": [
    "dfEnd = \\\n",
    "spark.sql\\\n",
    "('SELECT e1.iata, e2.iata, count(distinct(e2.src))+count(distinct(e2.dst)) AS Number_of_city\\\n",
    "FROM conn\\\n",
    "GROUP BY e1.iata, e2.iata\\\n",
    "HAVING count(distinct(e2.src))+count(distinct(e2.dst)) > 6')\n",
    "#taking only the airline with more than 6 city connected"
   ]
  },
  {
   "cell_type": "code",
   "execution_count": 48,
   "id": "65739ecb-901e-4069-8929-dc479ceafda8",
   "metadata": {},
   "outputs": [],
   "source": [
    "connect1 = g.find('(a)-[e1]->(b);(c)-[e2]->(d)')\n",
    "DfUlt = connect1.filter(connect1.a.id == connect1.c.id)\\\n",
    ".filter(connect1.b.id == connect1.d.id).filter(connect1.e1.iata == \"OS\")\\\n",
    ".filter(connect1.e2.iata == \"LH\") # 14 city"
   ]
  },
  {
   "cell_type": "code",
   "execution_count": 49,
   "id": "2ce01082-35a4-4989-8d36-cd7147aac54c",
   "metadata": {},
   "outputs": [],
   "source": [
    "from graphviz import Digraph\n",
    "def vizGraph(edge_list,node_list):\n",
    "    Gplot=Digraph()\n",
    "    edges=edge_list.collect()\n",
    "    nodes=node_list.collect()\n",
    "    for row in edges:\n",
    "        Gplot.edge(row['src'],row['dst'],label=row['iata'])\n",
    "    for row in nodes:\n",
    "        Gplot.node(row['id'],label=row['name'])\n",
    "    return Gplot"
   ]
  },
  {
   "cell_type": "code",
   "execution_count": 51,
   "id": "4c790aa2-1d81-422b-8bb0-a0fede7ff48f",
   "metadata": {},
   "outputs": [
    {
     "name": "stderr",
     "output_type": "stream",
     "text": [
      "                                                                                \r"
     ]
    }
   ],
   "source": [
    "Gplot = vizGraph(DfUlt[\"e1.src\",\"e1.dst\",\"e1.iata\"],\\\n",
    "                 DfUlt[\"a.id\",\"a.name\",\"b.id\",\"b.name\"])"
   ]
  },
  {
   "cell_type": "code",
   "execution_count": 52,
   "id": "3553ea48-f555-47b5-bd8d-164ca22c1ad1",
   "metadata": {},
   "outputs": [
    {
     "data": {
      "image/svg+xml": [
       "<?xml version=\"1.0\" encoding=\"UTF-8\" standalone=\"no\"?>\n",
       "<!DOCTYPE svg PUBLIC \"-//W3C//DTD SVG 1.1//EN\"\n",
       " \"http://www.w3.org/Graphics/SVG/1.1/DTD/svg11.dtd\">\n",
       "<!-- Generated by graphviz version 2.42.3 (20191010.1750)\n",
       " -->\n",
       "<!-- Title: %3 Pages: 1 -->\n",
       "<svg width=\"1513pt\" height=\"566pt\"\n",
       " viewBox=\"0.00 0.00 1513.03 566.00\" xmlns=\"http://www.w3.org/2000/svg\" xmlns:xlink=\"http://www.w3.org/1999/xlink\">\n",
       "<g id=\"graph0\" class=\"graph\" transform=\"scale(1 1) rotate(0) translate(4 562)\">\n",
       "<title>%3</title>\n",
       "<polygon fill=\"white\" stroke=\"transparent\" points=\"-4,4 -4,-562 1509.03,-562 1509.03,4 -4,4\"/>\n",
       "<!-- 351 -->\n",
       "<g id=\"node1\" class=\"node\">\n",
       "<title>351</title>\n",
       "<ellipse fill=\"none\" stroke=\"black\" cx=\"732.34\" cy=\"-540\" rx=\"86.38\" ry=\"18\"/>\n",
       "<text text-anchor=\"middle\" x=\"732.34\" y=\"-536.3\" font-family=\"Times,serif\" font-size=\"14.00\">Berlin&#45;Tegel Airport</text>\n",
       "</g>\n",
       "<!-- 1613 -->\n",
       "<g id=\"node2\" class=\"node\">\n",
       "<title>1613</title>\n",
       "<ellipse fill=\"none\" stroke=\"black\" cx=\"732.34\" cy=\"-453\" rx=\"115.88\" ry=\"18\"/>\n",
       "<text text-anchor=\"middle\" x=\"732.34\" y=\"-449.3\" font-family=\"Times,serif\" font-size=\"14.00\">Vienna International Airport</text>\n",
       "</g>\n",
       "<!-- 351&#45;&gt;1613 -->\n",
       "<g id=\"edge1\" class=\"edge\">\n",
       "<title>351&#45;&gt;1613</title>\n",
       "<path fill=\"none\" stroke=\"black\" d=\"M719.5,-521.77C713.97,-512.29 709.37,-500.2 712.34,-489 713.14,-485.99 714.27,-482.96 715.59,-480.02\"/>\n",
       "<polygon fill=\"black\" stroke=\"black\" points=\"718.76,-481.51 720.27,-471.03 712.55,-478.28 718.76,-481.51\"/>\n",
       "<text text-anchor=\"middle\" x=\"721.84\" y=\"-492.8\" font-family=\"Times,serif\" font-size=\"14.00\">OS</text>\n",
       "</g>\n",
       "<!-- 1613&#45;&gt;351 -->\n",
       "<g id=\"edge14\" class=\"edge\">\n",
       "<title>1613&#45;&gt;351</title>\n",
       "<path fill=\"none\" stroke=\"black\" d=\"M732.34,-471.18C732.34,-482.81 732.34,-498.42 732.34,-511.73\"/>\n",
       "<polygon fill=\"black\" stroke=\"black\" points=\"728.84,-511.8 732.34,-521.8 735.84,-511.8 728.84,-511.8\"/>\n",
       "<text text-anchor=\"middle\" x=\"741.84\" y=\"-492.8\" font-family=\"Times,serif\" font-size=\"14.00\">OS</text>\n",
       "</g>\n",
       "<!-- 348 -->\n",
       "<g id=\"node3\" class=\"node\">\n",
       "<title>348</title>\n",
       "<ellipse fill=\"none\" stroke=\"black\" cx=\"90.34\" cy=\"-366\" rx=\"90.18\" ry=\"18\"/>\n",
       "<text text-anchor=\"middle\" x=\"90.34\" y=\"-362.3\" font-family=\"Times,serif\" font-size=\"14.00\">Leipzig/Halle Airport</text>\n",
       "</g>\n",
       "<!-- 1613&#45;&gt;348 -->\n",
       "<g id=\"edge11\" class=\"edge\">\n",
       "<title>1613&#45;&gt;348</title>\n",
       "<path fill=\"none\" stroke=\"black\" d=\"M617.18,-451.18C451.62,-449.12 161.64,-441.97 120.34,-417 111.34,-411.56 104.7,-402.3 100,-393.21\"/>\n",
       "<polygon fill=\"black\" stroke=\"black\" points=\"103.11,-391.61 95.77,-383.98 96.75,-394.53 103.11,-391.61\"/>\n",
       "<text text-anchor=\"middle\" x=\"129.84\" y=\"-405.8\" font-family=\"Times,serif\" font-size=\"14.00\">OS</text>\n",
       "</g>\n",
       "<!-- 345 -->\n",
       "<g id=\"node5\" class=\"node\">\n",
       "<title>345</title>\n",
       "<ellipse fill=\"none\" stroke=\"black\" cx=\"604.34\" cy=\"-366\" rx=\"80.69\" ry=\"18\"/>\n",
       "<text text-anchor=\"middle\" x=\"604.34\" y=\"-362.3\" font-family=\"Times,serif\" font-size=\"14.00\">Düsseldorf Airport</text>\n",
       "</g>\n",
       "<!-- 1613&#45;&gt;345 -->\n",
       "<g id=\"edge8\" class=\"edge\">\n",
       "<title>1613&#45;&gt;345</title>\n",
       "<path fill=\"none\" stroke=\"black\" d=\"M707.36,-435.41C687.32,-422.1 659.03,-403.31 637.16,-388.79\"/>\n",
       "<polygon fill=\"black\" stroke=\"black\" points=\"639.09,-385.88 628.83,-383.26 635.22,-391.71 639.09,-385.88\"/>\n",
       "<text text-anchor=\"middle\" x=\"685.84\" y=\"-405.8\" font-family=\"Times,serif\" font-size=\"14.00\">OS</text>\n",
       "</g>\n",
       "<!-- 340 -->\n",
       "<g id=\"node6\" class=\"node\">\n",
       "<title>340</title>\n",
       "<ellipse fill=\"none\" stroke=\"black\" cx=\"488.34\" cy=\"-192\" rx=\"110.48\" ry=\"18\"/>\n",
       "<text text-anchor=\"middle\" x=\"488.34\" y=\"-188.3\" font-family=\"Times,serif\" font-size=\"14.00\">Frankfurt am Main Airport</text>\n",
       "</g>\n",
       "<!-- 1613&#45;&gt;340 -->\n",
       "<g id=\"edge9\" class=\"edge\">\n",
       "<title>1613&#45;&gt;340</title>\n",
       "<path fill=\"none\" stroke=\"black\" d=\"M730.28,-434.72C724.09,-383.47 705.64,-235.41 698.34,-228 684.02,-213.47 643,-204.96 600.96,-199.99\"/>\n",
       "<polygon fill=\"black\" stroke=\"black\" points=\"601.18,-196.49 590.85,-198.86 600.4,-203.44 601.18,-196.49\"/>\n",
       "<text text-anchor=\"middle\" x=\"726.84\" y=\"-318.8\" font-family=\"Times,serif\" font-size=\"14.00\">OS</text>\n",
       "</g>\n",
       "<!-- 346 -->\n",
       "<g id=\"node7\" class=\"node\">\n",
       "<title>346</title>\n",
       "<ellipse fill=\"none\" stroke=\"black\" cx=\"399.34\" cy=\"-18\" rx=\"69.59\" ry=\"18\"/>\n",
       "<text text-anchor=\"middle\" x=\"399.34\" y=\"-14.3\" font-family=\"Times,serif\" font-size=\"14.00\">Munich Airport</text>\n",
       "</g>\n",
       "<!-- 1613&#45;&gt;346 -->\n",
       "<g id=\"edge12\" class=\"edge\">\n",
       "<title>1613&#45;&gt;346</title>\n",
       "<path fill=\"none\" stroke=\"black\" d=\"M641.23,-441.89C602.32,-436.38 556.67,-428.32 516.34,-417 478.92,-406.49 465.32,-408.75 435.34,-384 328.59,-295.86 304.75,-255.71 265.34,-123 260.79,-107.66 256.97,-100.64 265.34,-87 281.58,-60.55 311.67,-44 339.22,-33.86\"/>\n",
       "<polygon fill=\"black\" stroke=\"black\" points=\"340.53,-37.11 348.84,-30.53 338.24,-30.49 340.53,-37.11\"/>\n",
       "<text text-anchor=\"middle\" x=\"318.84\" y=\"-231.8\" font-family=\"Times,serif\" font-size=\"14.00\">OS</text>\n",
       "</g>\n",
       "<!-- 350 -->\n",
       "<g id=\"node8\" class=\"node\">\n",
       "<title>350</title>\n",
       "<ellipse fill=\"none\" stroke=\"black\" cx=\"736.34\" cy=\"-18\" rx=\"71.49\" ry=\"18\"/>\n",
       "<text text-anchor=\"middle\" x=\"736.34\" y=\"-14.3\" font-family=\"Times,serif\" font-size=\"14.00\">Stuttgart Airport</text>\n",
       "</g>\n",
       "<!-- 1613&#45;&gt;350 -->\n",
       "<g id=\"edge13\" class=\"edge\">\n",
       "<title>1613&#45;&gt;350</title>\n",
       "<path fill=\"none\" stroke=\"black\" d=\"M735.27,-434.96C736.12,-429.27 736.92,-422.88 737.34,-417 740.56,-371.78 737.42,-360.33 737.34,-315 737.17,-215.93 736.69,-98.21 736.46,-46.11\"/>\n",
       "<polygon fill=\"black\" stroke=\"black\" points=\"739.96,-46 736.42,-36.02 732.96,-46.03 739.96,-46\"/>\n",
       "<text text-anchor=\"middle\" x=\"746.84\" y=\"-231.8\" font-family=\"Times,serif\" font-size=\"14.00\">OS</text>\n",
       "</g>\n",
       "<!-- 344 -->\n",
       "<g id=\"node9\" class=\"node\">\n",
       "<title>344</title>\n",
       "<ellipse fill=\"none\" stroke=\"black\" cx=\"913.34\" cy=\"-366\" rx=\"95.58\" ry=\"18\"/>\n",
       "<text text-anchor=\"middle\" x=\"913.34\" y=\"-362.3\" font-family=\"Times,serif\" font-size=\"14.00\">Cologne Bonn Airport</text>\n",
       "</g>\n",
       "<!-- 1613&#45;&gt;344 -->\n",
       "<g id=\"edge7\" class=\"edge\">\n",
       "<title>1613&#45;&gt;344</title>\n",
       "<path fill=\"none\" stroke=\"black\" d=\"M766.81,-435.81C796.09,-422.06 838.27,-402.25 869.87,-387.42\"/>\n",
       "<polygon fill=\"black\" stroke=\"black\" points=\"871.74,-390.4 879.31,-382.98 868.77,-384.07 871.74,-390.4\"/>\n",
       "<text text-anchor=\"middle\" x=\"843.84\" y=\"-405.8\" font-family=\"Times,serif\" font-size=\"14.00\">OS</text>\n",
       "</g>\n",
       "<!-- 342 -->\n",
       "<g id=\"node10\" class=\"node\">\n",
       "<title>342</title>\n",
       "<ellipse fill=\"none\" stroke=\"black\" cx=\"1102.34\" cy=\"-366\" rx=\"75.29\" ry=\"18\"/>\n",
       "<text text-anchor=\"middle\" x=\"1102.34\" y=\"-362.3\" font-family=\"Times,serif\" font-size=\"14.00\">Hamburg Airport</text>\n",
       "</g>\n",
       "<!-- 1613&#45;&gt;342 -->\n",
       "<g id=\"edge10\" class=\"edge\">\n",
       "<title>1613&#45;&gt;342</title>\n",
       "<path fill=\"none\" stroke=\"black\" d=\"M800.73,-438.48C831.53,-432.22 868.33,-424.52 901.34,-417 949.34,-406.06 1003.48,-392.53 1043.47,-382.3\"/>\n",
       "<polygon fill=\"black\" stroke=\"black\" points=\"1044.5,-385.64 1053.32,-379.77 1042.77,-378.86 1044.5,-385.64\"/>\n",
       "<text text-anchor=\"middle\" x=\"971.84\" y=\"-405.8\" font-family=\"Times,serif\" font-size=\"14.00\">OS</text>\n",
       "</g>\n",
       "<!-- 193 -->\n",
       "<g id=\"node11\" class=\"node\">\n",
       "<title>193</title>\n",
       "<ellipse fill=\"none\" stroke=\"black\" cx=\"1350.34\" cy=\"-366\" rx=\"154.87\" ry=\"18\"/>\n",
       "<text text-anchor=\"middle\" x=\"1350.34\" y=\"-362.3\" font-family=\"Times,serif\" font-size=\"14.00\">Lester B. Pearson International Airport</text>\n",
       "</g>\n",
       "<!-- 1613&#45;&gt;193 -->\n",
       "<g id=\"edge15\" class=\"edge\">\n",
       "<title>1613&#45;&gt;193</title>\n",
       "<path fill=\"none\" stroke=\"black\" d=\"M828.49,-442.88C891.89,-436.51 976.7,-427.33 1051.34,-417 1122.06,-407.22 1201.79,-393.76 1261.12,-383.27\"/>\n",
       "<polygon fill=\"black\" stroke=\"black\" points=\"1261.97,-386.68 1271.21,-381.48 1260.75,-379.78 1261.97,-386.68\"/>\n",
       "<text text-anchor=\"middle\" x=\"1159.84\" y=\"-405.8\" font-family=\"Times,serif\" font-size=\"14.00\">OS</text>\n",
       "</g>\n",
       "<!-- 348&#45;&gt;1613 -->\n",
       "<g id=\"edge2\" class=\"edge\">\n",
       "<title>348&#45;&gt;1613</title>\n",
       "<path fill=\"none\" stroke=\"black\" d=\"M112.07,-383.68C128.49,-395.27 152.1,-409.88 175.34,-417 253.01,-440.79 467.9,-448.43 606.93,-450.87\"/>\n",
       "<polygon fill=\"black\" stroke=\"black\" points=\"607.16,-454.38 617.22,-451.05 607.28,-447.38 607.16,-454.38\"/>\n",
       "<text text-anchor=\"middle\" x=\"184.84\" y=\"-405.8\" font-family=\"Times,serif\" font-size=\"14.00\">OS</text>\n",
       "</g>\n",
       "<!-- 1609 -->\n",
       "<g id=\"node4\" class=\"node\">\n",
       "<title>1609</title>\n",
       "<ellipse fill=\"none\" stroke=\"black\" cx=\"669.34\" cy=\"-105\" rx=\"57.69\" ry=\"18\"/>\n",
       "<text text-anchor=\"middle\" x=\"669.34\" y=\"-101.3\" font-family=\"Times,serif\" font-size=\"14.00\">Graz Airport</text>\n",
       "</g>\n",
       "<!-- 1609&#45;&gt;345 -->\n",
       "<g id=\"edge3\" class=\"edge\">\n",
       "<title>1609&#45;&gt;345</title>\n",
       "<path fill=\"none\" stroke=\"black\" d=\"M672.03,-123.01C677.35,-162.24 685.72,-260.96 648.34,-330 645.97,-334.38 642.79,-338.41 639.23,-342.05\"/>\n",
       "<polygon fill=\"black\" stroke=\"black\" points=\"636.62,-339.69 631.49,-348.96 641.28,-344.91 636.62,-339.69\"/>\n",
       "<text text-anchor=\"middle\" x=\"684.84\" y=\"-231.8\" font-family=\"Times,serif\" font-size=\"14.00\">OS</text>\n",
       "</g>\n",
       "<!-- 1609&#45;&gt;340 -->\n",
       "<g id=\"edge4\" class=\"edge\">\n",
       "<title>1609&#45;&gt;340</title>\n",
       "<path fill=\"none\" stroke=\"black\" d=\"M625.31,-116.68C604.7,-122.51 580.16,-130.66 559.34,-141 544.53,-148.35 529.38,-158.58 516.89,-167.88\"/>\n",
       "<polygon fill=\"black\" stroke=\"black\" points=\"514.54,-165.27 508.71,-174.11 518.79,-170.83 514.54,-165.27\"/>\n",
       "<text text-anchor=\"middle\" x=\"568.84\" y=\"-144.8\" font-family=\"Times,serif\" font-size=\"14.00\">OS</text>\n",
       "</g>\n",
       "<!-- 1609&#45;&gt;346 -->\n",
       "<g id=\"edge5\" class=\"edge\">\n",
       "<title>1609&#45;&gt;346</title>\n",
       "<path fill=\"none\" stroke=\"black\" d=\"M630.08,-91.64C582.95,-76.8 503.75,-51.87 451.52,-35.42\"/>\n",
       "<polygon fill=\"black\" stroke=\"black\" points=\"452.36,-32.02 441.77,-32.36 450.25,-38.7 452.36,-32.02\"/>\n",
       "<text text-anchor=\"middle\" x=\"560.84\" y=\"-57.8\" font-family=\"Times,serif\" font-size=\"14.00\">OS</text>\n",
       "</g>\n",
       "<!-- 1609&#45;&gt;350 -->\n",
       "<g id=\"edge6\" class=\"edge\">\n",
       "<title>1609&#45;&gt;350</title>\n",
       "<path fill=\"none\" stroke=\"black\" d=\"M682.58,-87.21C692.31,-74.87 705.68,-57.89 716.66,-43.97\"/>\n",
       "<polygon fill=\"black\" stroke=\"black\" points=\"719.69,-45.78 723.13,-35.76 714.19,-41.45 719.69,-45.78\"/>\n",
       "<text text-anchor=\"middle\" x=\"716.84\" y=\"-57.8\" font-family=\"Times,serif\" font-size=\"14.00\">OS</text>\n",
       "</g>\n",
       "<!-- 345&#45;&gt;1613 -->\n",
       "<g id=\"edge22\" class=\"edge\">\n",
       "<title>345&#45;&gt;1613</title>\n",
       "<path fill=\"none\" stroke=\"black\" d=\"M612.61,-384.33C618.48,-395.03 627.27,-408.32 638.34,-417 646.55,-423.43 656.05,-428.77 665.81,-433.18\"/>\n",
       "<polygon fill=\"black\" stroke=\"black\" points=\"664.62,-436.47 675.2,-437.12 667.33,-430.02 664.62,-436.47\"/>\n",
       "<text text-anchor=\"middle\" x=\"647.84\" y=\"-405.8\" font-family=\"Times,serif\" font-size=\"14.00\">OS</text>\n",
       "</g>\n",
       "<!-- 345&#45;&gt;1609 -->\n",
       "<g id=\"edge20\" class=\"edge\">\n",
       "<title>345&#45;&gt;1609</title>\n",
       "<path fill=\"none\" stroke=\"black\" d=\"M608.61,-348.01C619.65,-304.01 649.24,-186.11 662.61,-132.81\"/>\n",
       "<polygon fill=\"black\" stroke=\"black\" points=\"666.02,-133.61 665.06,-123.06 659.23,-131.9 666.02,-133.61\"/>\n",
       "<text text-anchor=\"middle\" x=\"647.84\" y=\"-231.8\" font-family=\"Times,serif\" font-size=\"14.00\">OS</text>\n",
       "</g>\n",
       "<!-- 1611 -->\n",
       "<g id=\"node13\" class=\"node\">\n",
       "<title>1611</title>\n",
       "<ellipse fill=\"none\" stroke=\"black\" cx=\"507.34\" cy=\"-279\" rx=\"98.58\" ry=\"18\"/>\n",
       "<text text-anchor=\"middle\" x=\"507.34\" y=\"-275.3\" font-family=\"Times,serif\" font-size=\"14.00\">Linz Hörsching Airport</text>\n",
       "</g>\n",
       "<!-- 345&#45;&gt;1611 -->\n",
       "<g id=\"edge21\" class=\"edge\">\n",
       "<title>345&#45;&gt;1611</title>\n",
       "<path fill=\"none\" stroke=\"black\" d=\"M593.41,-347.96C586.24,-337.64 576.21,-324.64 565.34,-315 559.9,-310.17 553.7,-305.63 547.42,-301.52\"/>\n",
       "<polygon fill=\"black\" stroke=\"black\" points=\"549.23,-298.52 538.89,-296.2 545.52,-304.46 549.23,-298.52\"/>\n",
       "<text text-anchor=\"middle\" x=\"588.84\" y=\"-318.8\" font-family=\"Times,serif\" font-size=\"14.00\">OS</text>\n",
       "</g>\n",
       "<!-- 340&#45;&gt;1613 -->\n",
       "<g id=\"edge34\" class=\"edge\">\n",
       "<title>340&#45;&gt;1613</title>\n",
       "<path fill=\"none\" stroke=\"black\" d=\"M453.93,-209.21C434.03,-220.63 410.72,-237.99 399.34,-261 392.25,-275.34 392.22,-282.67 399.34,-297 442.73,-384.24 552.95,-422.55 634.76,-439.27\"/>\n",
       "<polygon fill=\"black\" stroke=\"black\" points=\"634.11,-442.71 644.59,-441.2 635.46,-435.84 634.11,-442.71\"/>\n",
       "<text text-anchor=\"middle\" x=\"428.84\" y=\"-318.8\" font-family=\"Times,serif\" font-size=\"14.00\">OS</text>\n",
       "</g>\n",
       "<!-- 340&#45;&gt;1609 -->\n",
       "<g id=\"edge30\" class=\"edge\">\n",
       "<title>340&#45;&gt;1609</title>\n",
       "<path fill=\"none\" stroke=\"black\" d=\"M533.55,-175.52C548.13,-169.97 564.17,-163.28 578.34,-156 589.2,-150.43 590.79,-147.13 601.34,-141 610.65,-135.59 620.88,-130.09 630.52,-125.11\"/>\n",
       "<polygon fill=\"black\" stroke=\"black\" points=\"632.22,-128.18 639.53,-120.51 629.03,-121.94 632.22,-128.18\"/>\n",
       "<text text-anchor=\"middle\" x=\"610.84\" y=\"-144.8\" font-family=\"Times,serif\" font-size=\"14.00\">OS</text>\n",
       "</g>\n",
       "<!-- 1610 -->\n",
       "<g id=\"node12\" class=\"node\">\n",
       "<title>1610</title>\n",
       "<ellipse fill=\"none\" stroke=\"black\" cx=\"516.34\" cy=\"-105\" rx=\"77.19\" ry=\"18\"/>\n",
       "<text text-anchor=\"middle\" x=\"516.34\" y=\"-101.3\" font-family=\"Times,serif\" font-size=\"14.00\">Innsbruck Airport</text>\n",
       "</g>\n",
       "<!-- 340&#45;&gt;1610 -->\n",
       "<g id=\"edge31\" class=\"edge\">\n",
       "<title>340&#45;&gt;1610</title>\n",
       "<path fill=\"none\" stroke=\"black\" d=\"M494.01,-173.8C497.88,-162.05 503.09,-146.24 507.5,-132.84\"/>\n",
       "<polygon fill=\"black\" stroke=\"black\" points=\"510.88,-133.77 510.68,-123.18 504.23,-131.58 510.88,-133.77\"/>\n",
       "<text text-anchor=\"middle\" x=\"513.84\" y=\"-144.8\" font-family=\"Times,serif\" font-size=\"14.00\">OS</text>\n",
       "</g>\n",
       "<!-- 340&#45;&gt;1611 -->\n",
       "<g id=\"edge32\" class=\"edge\">\n",
       "<title>340&#45;&gt;1611</title>\n",
       "<path fill=\"none\" stroke=\"black\" d=\"M479.88,-210C476.14,-219.83 473.39,-232.33 477.34,-243 478.64,-246.51 480.46,-249.9 482.58,-253.11\"/>\n",
       "<polygon fill=\"black\" stroke=\"black\" points=\"479.84,-255.29 488.7,-261.1 485.4,-251.03 479.84,-255.29\"/>\n",
       "<text text-anchor=\"middle\" x=\"486.84\" y=\"-231.8\" font-family=\"Times,serif\" font-size=\"14.00\">OS</text>\n",
       "</g>\n",
       "<!-- 1612 -->\n",
       "<g id=\"node14\" class=\"node\">\n",
       "<title>1612</title>\n",
       "<ellipse fill=\"none\" stroke=\"black\" cx=\"347.34\" cy=\"-105\" rx=\"73.39\" ry=\"18\"/>\n",
       "<text text-anchor=\"middle\" x=\"347.34\" y=\"-101.3\" font-family=\"Times,serif\" font-size=\"14.00\">Salzburg Airport</text>\n",
       "</g>\n",
       "<!-- 340&#45;&gt;1612 -->\n",
       "<g id=\"edge33\" class=\"edge\">\n",
       "<title>340&#45;&gt;1612</title>\n",
       "<path fill=\"none\" stroke=\"black\" d=\"M460.82,-174.41C438.51,-160.96 406.9,-141.91 382.71,-127.32\"/>\n",
       "<polygon fill=\"black\" stroke=\"black\" points=\"384.21,-124.14 373.84,-121.97 380.6,-130.13 384.21,-124.14\"/>\n",
       "<text text-anchor=\"middle\" x=\"435.84\" y=\"-144.8\" font-family=\"Times,serif\" font-size=\"14.00\">OS</text>\n",
       "</g>\n",
       "<!-- 346&#45;&gt;1613 -->\n",
       "<g id=\"edge28\" class=\"edge\">\n",
       "<title>346&#45;&gt;1613</title>\n",
       "<path fill=\"none\" stroke=\"black\" d=\"M331.46,-22.24C276.57,-28.95 208.34,-48.47 208.34,-104 208.34,-367 208.34,-367 208.34,-367 208.34,-408.12 462.98,-433.21 617.24,-444.65\"/>\n",
       "<polygon fill=\"black\" stroke=\"black\" points=\"617.02,-448.14 627.25,-445.38 617.53,-441.16 617.02,-448.14\"/>\n",
       "<text text-anchor=\"middle\" x=\"217.84\" y=\"-231.8\" font-family=\"Times,serif\" font-size=\"14.00\">OS</text>\n",
       "</g>\n",
       "<!-- 346&#45;&gt;1609 -->\n",
       "<g id=\"edge27\" class=\"edge\">\n",
       "<title>346&#45;&gt;1609</title>\n",
       "<path fill=\"none\" stroke=\"black\" d=\"M424.45,-34.87C443.27,-46.06 470.04,-60.52 495.34,-69 541.07,-84.33 555.15,-77.06 602.34,-87 607.08,-88 612,-89.1 616.91,-90.26\"/>\n",
       "<polygon fill=\"black\" stroke=\"black\" points=\"616.39,-93.74 626.93,-92.68 618.03,-86.93 616.39,-93.74\"/>\n",
       "<text text-anchor=\"middle\" x=\"504.84\" y=\"-57.8\" font-family=\"Times,serif\" font-size=\"14.00\">OS</text>\n",
       "</g>\n",
       "<!-- 350&#45;&gt;1613 -->\n",
       "<g id=\"edge25\" class=\"edge\">\n",
       "<title>350&#45;&gt;1613</title>\n",
       "<path fill=\"none\" stroke=\"black\" d=\"M745.07,-36.04C747.54,-41.62 749.94,-47.95 751.34,-54 787.85,-211.15 797.32,-262.06 752.34,-417 751.47,-420 750.3,-423.01 748.96,-425.94\"/>\n",
       "<polygon fill=\"black\" stroke=\"black\" points=\"745.79,-424.44 744.24,-434.92 751.99,-427.7 745.79,-424.44\"/>\n",
       "<text text-anchor=\"middle\" x=\"792.84\" y=\"-231.8\" font-family=\"Times,serif\" font-size=\"14.00\">OS</text>\n",
       "</g>\n",
       "<!-- 350&#45;&gt;1609 -->\n",
       "<g id=\"edge24\" class=\"edge\">\n",
       "<title>350&#45;&gt;1609</title>\n",
       "<path fill=\"none\" stroke=\"black\" d=\"M699.44,-33.59C690.59,-38.77 682.05,-45.49 676.34,-54 671.86,-60.68 669.69,-69 668.76,-76.92\"/>\n",
       "<polygon fill=\"black\" stroke=\"black\" points=\"665.26,-76.74 668.14,-86.93 672.25,-77.17 665.26,-76.74\"/>\n",
       "<text text-anchor=\"middle\" x=\"685.84\" y=\"-57.8\" font-family=\"Times,serif\" font-size=\"14.00\">OS</text>\n",
       "</g>\n",
       "<!-- 344&#45;&gt;1613 -->\n",
       "<g id=\"edge19\" class=\"edge\">\n",
       "<title>344&#45;&gt;1613</title>\n",
       "<path fill=\"none\" stroke=\"black\" d=\"M898.21,-384.05C887.72,-394.91 872.89,-408.49 857.34,-417 843.26,-424.71 827.34,-430.84 811.7,-435.67\"/>\n",
       "<polygon fill=\"black\" stroke=\"black\" points=\"810.62,-432.34 802.01,-438.51 812.59,-439.05 810.62,-432.34\"/>\n",
       "<text text-anchor=\"middle\" x=\"887.84\" y=\"-405.8\" font-family=\"Times,serif\" font-size=\"14.00\">OS</text>\n",
       "</g>\n",
       "<!-- 342&#45;&gt;1613 -->\n",
       "<g id=\"edge29\" class=\"edge\">\n",
       "<title>342&#45;&gt;1613</title>\n",
       "<path fill=\"none\" stroke=\"black\" d=\"M1071.87,-382.69C1048.72,-393.94 1015.78,-408.55 985.34,-417 939.76,-429.65 888.23,-437.83 843.63,-443.08\"/>\n",
       "<polygon fill=\"black\" stroke=\"black\" points=\"843.17,-439.61 833.63,-444.22 843.97,-446.56 843.17,-439.61\"/>\n",
       "<text text-anchor=\"middle\" x=\"1037.84\" y=\"-405.8\" font-family=\"Times,serif\" font-size=\"14.00\">OS</text>\n",
       "</g>\n",
       "<!-- 193&#45;&gt;1613 -->\n",
       "<g id=\"edge23\" class=\"edge\">\n",
       "<title>193&#45;&gt;1613</title>\n",
       "<path fill=\"none\" stroke=\"black\" d=\"M1302.86,-383.16C1267.55,-394.5 1217.97,-409 1173.34,-417 1067.06,-436.04 944.52,-444.72 855.63,-448.68\"/>\n",
       "<polygon fill=\"black\" stroke=\"black\" points=\"855.34,-445.19 845.5,-449.12 855.64,-452.18 855.34,-445.19\"/>\n",
       "<text text-anchor=\"middle\" x=\"1247.84\" y=\"-405.8\" font-family=\"Times,serif\" font-size=\"14.00\">OS</text>\n",
       "</g>\n",
       "<!-- 1610&#45;&gt;340 -->\n",
       "<g id=\"edge16\" class=\"edge\">\n",
       "<title>1610&#45;&gt;340</title>\n",
       "<path fill=\"none\" stroke=\"black\" d=\"M490.57,-122.13C484.45,-127.34 478.71,-133.69 475.34,-141 472,-148.25 472.55,-156.5 474.7,-164.18\"/>\n",
       "<polygon fill=\"black\" stroke=\"black\" points=\"471.5,-165.64 478.24,-173.82 478.07,-163.23 471.5,-165.64\"/>\n",
       "<text text-anchor=\"middle\" x=\"484.84\" y=\"-144.8\" font-family=\"Times,serif\" font-size=\"14.00\">OS</text>\n",
       "</g>\n",
       "<!-- 1611&#45;&gt;345 -->\n",
       "<g id=\"edge17\" class=\"edge\">\n",
       "<title>1611&#45;&gt;345</title>\n",
       "<path fill=\"none\" stroke=\"black\" d=\"M518.28,-297.04C525.44,-307.36 535.47,-320.36 546.34,-330 551.97,-334.99 558.4,-339.67 564.89,-343.89\"/>\n",
       "<polygon fill=\"black\" stroke=\"black\" points=\"563.35,-347.05 573.7,-349.33 567.03,-341.09 563.35,-347.05\"/>\n",
       "<text text-anchor=\"middle\" x=\"555.84\" y=\"-318.8\" font-family=\"Times,serif\" font-size=\"14.00\">OS</text>\n",
       "</g>\n",
       "<!-- 1611&#45;&gt;340 -->\n",
       "<g id=\"edge18\" class=\"edge\">\n",
       "<title>1611&#45;&gt;340</title>\n",
       "<path fill=\"none\" stroke=\"black\" d=\"M505.75,-260.72C504.65,-251.02 502.91,-238.74 500.34,-228 499.71,-225.34 498.95,-222.59 498.13,-219.87\"/>\n",
       "<polygon fill=\"black\" stroke=\"black\" points=\"501.42,-218.67 494.99,-210.25 494.77,-220.85 501.42,-218.67\"/>\n",
       "<text text-anchor=\"middle\" x=\"512.84\" y=\"-231.8\" font-family=\"Times,serif\" font-size=\"14.00\">OS</text>\n",
       "</g>\n",
       "<!-- 1612&#45;&gt;340 -->\n",
       "<g id=\"edge26\" class=\"edge\">\n",
       "<title>1612&#45;&gt;340</title>\n",
       "<path fill=\"none\" stroke=\"black\" d=\"M351.29,-123.05C354.64,-133.91 360.52,-147.49 370.34,-156 379.77,-164.17 391.04,-170.44 402.81,-175.24\"/>\n",
       "<polygon fill=\"black\" stroke=\"black\" points=\"401.75,-178.58 412.34,-178.78 404.19,-172.02 401.75,-178.58\"/>\n",
       "<text text-anchor=\"middle\" x=\"379.84\" y=\"-144.8\" font-family=\"Times,serif\" font-size=\"14.00\">OS</text>\n",
       "</g>\n",
       "</g>\n",
       "</svg>\n"
      ],
      "text/plain": [
       "<graphviz.graphs.Digraph at 0x7fab4102dfd0>"
      ]
     },
     "execution_count": 52,
     "metadata": {},
     "output_type": "execute_result"
    }
   ],
   "source": [
    "Gplot"
   ]
  }
 ],
 "metadata": {
  "kernelspec": {
   "display_name": "GraphFrames (Yarn)",
   "language": "python",
   "name": "graphframe_yarn"
  },
  "language_info": {
   "codemirror_mode": {
    "name": "ipython",
    "version": 3
   },
   "file_extension": ".py",
   "mimetype": "text/x-python",
   "name": "python",
   "nbconvert_exporter": "python",
   "pygments_lexer": "ipython3",
   "version": "3.7.9"
  }
 },
 "nbformat": 4,
 "nbformat_minor": 5
}
