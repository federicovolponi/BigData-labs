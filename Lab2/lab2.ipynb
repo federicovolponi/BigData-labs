{
 "cells": [
  {
   "cell_type": "markdown",
   "id": "98cafee7-9a3d-4fb7-98fc-94b5871fdc48",
   "metadata": {},
   "source": [
    "# LABORATORY 2"
   ]
  },
  {
   "cell_type": "markdown",
   "id": "6310ffc3-aac1-44d0-afd9-ed5a3e4bce70",
   "metadata": {},
   "source": [
    "## 1.0 Problem Specification: Analysis of the file."
   ]
  },
  {
   "cell_type": "code",
   "execution_count": 40,
   "id": "566d5909-b2dd-4a01-9348-d3230602e682",
   "metadata": {},
   "outputs": [],
   "source": [
    "rdd = sc.textFile\\\n",
    "(\"/data/students/bigdata_internet/lab2/word_frequency.tsv\")"
   ]
  },
  {
   "cell_type": "markdown",
   "id": "8bf15b1d-9899-4b8d-9c37-35c0baa1889d",
   "metadata": {},
   "source": [
    "#### 1.0.1 Can you draw 5 samples from the input RDD? Which command do you use?\n",
    "Can we draw five samples using the *take(nsamples)* or the *takeSample(withReplacement=False, nsamples)* action."
   ]
  },
  {
   "cell_type": "code",
   "execution_count": 41,
   "id": "130bc42b-d875-41bf-b7d5-8513e689f45c",
   "metadata": {},
   "outputs": [
    {
     "name": "stdout",
     "output_type": "stream",
     "text": [
      "['nobodies\\t4', 'Englsih\\t1', 'eyes/teeth/gums\\t1', 'steviaEat\\t1', 'Irishy\\t1']\n"
     ]
    }
   ],
   "source": [
    "sample = rdd.takeSample(False, 5)\n",
    "print(sample)"
   ]
  },
  {
   "cell_type": "markdown",
   "id": "faf28e72-88bc-4c33-9210-22481b46d62e",
   "metadata": {},
   "source": [
    "#### 1.0.2 Now pick the first 5 words in order of frequency."
   ]
  },
  {
   "cell_type": "code",
   "execution_count": 42,
   "id": "c5bc80ef-f83d-4c4d-b282-4c4d397c8092",
   "metadata": {},
   "outputs": [
    {
     "data": {
      "text/plain": [
       "[('the', 1630750),\n",
       " ('I', 1448619),\n",
       " ('and', 1237250),\n",
       " ('a', 1164419),\n",
       " ('to', 997979)]"
      ]
     },
     "execution_count": 42,
     "metadata": {},
     "output_type": "execute_result"
    }
   ],
   "source": [
    "# split the line by the \\t\n",
    "splitRDD = rdd.map(lambda l: (l.split(\"\\t\")[0], int(l.split(\"\\t\")[1])))\n",
    "splitRDD.top(5, lambda freq: freq[1])"
   ]
  },
  {
   "cell_type": "markdown",
   "id": "b2d224a2-0398-4d16-942b-c0052c44732f",
   "metadata": {},
   "source": [
    "#### 1.0.3 How many words does the file contain?"
   ]
  },
  {
   "cell_type": "code",
   "execution_count": 43,
   "id": "af135b7e-8fe7-4f3b-bb2e-80cd5c30aeec",
   "metadata": {},
   "outputs": [
    {
     "name": "stdout",
     "output_type": "stream",
     "text": [
      "The number of words in the file is:  339819\n"
     ]
    }
   ],
   "source": [
    "numbWords = rdd.count()\n",
    "print(\"The number of words in the file is: \", numbWords)"
   ]
  },
  {
   "cell_type": "markdown",
   "id": "84ebd634-c9af-4348-ac21-ace2e3b09c39",
   "metadata": {
    "tags": []
   },
   "source": [
    "#### 1.0.4 Is `word_frequency.tsv` a folder or a file?\n",
    "*word_frequency.tsv* is a folder with the same structure as an RDD: it contains *_SUCCESS*, *part-00000*, *part-00001*"
   ]
  },
  {
   "cell_type": "markdown",
   "id": "8e68f59f-b5e0-41ac-9518-3d60db501beb",
   "metadata": {},
   "source": [
    "## 1.1 Filter words starting with a specified prefix"
   ]
  },
  {
   "cell_type": "code",
   "execution_count": 44,
   "id": "7d6027ea-bcca-4618-8000-7f35fa67fc90",
   "metadata": {},
   "outputs": [],
   "source": [
    "# set the prefix\n",
    "prefix = \"ho\"\n",
    "# filter the words that start with the selected prefix\n",
    "PrefixWordRDD = splitRDD.filter(lambda word: word[0].startswith(prefix))"
   ]
  },
  {
   "cell_type": "markdown",
   "id": "ac991b3e-f3f3-4f55-86d8-262f5b9c093a",
   "metadata": {},
   "source": [
    "#### 1.1.1 How many lines are left?"
   ]
  },
  {
   "cell_type": "code",
   "execution_count": 47,
   "id": "74225882-043d-48bf-b098-f3db3ad38727",
   "metadata": {},
   "outputs": [
    {
     "name": "stdout",
     "output_type": "stream",
     "text": [
      "Number of lines left:  1519\n"
     ]
    }
   ],
   "source": [
    "numbWords = PrefixWordRDD.count()\n",
    "print(\"Number of lines left: \",numbWords)"
   ]
  },
  {
   "cell_type": "markdown",
   "id": "0aa72c7a-0134-4209-9b51-66f5d7826a73",
   "metadata": {},
   "source": [
    "#### 1.1.2 How frequent is the most frequent word of the selected sample (i.e., the maximum value of `freq` in the lines obtained by applying the filter)?"
   ]
  },
  {
   "cell_type": "code",
   "execution_count": 48,
   "id": "9a406b70-38d3-4b5d-afe6-8c28f1f3818f",
   "metadata": {},
   "outputs": [],
   "source": [
    "freqPrefixRDD= PrefixWordRDD.map(lambda freq: freq[1])"
   ]
  },
  {
   "cell_type": "code",
   "execution_count": 49,
   "id": "594ff1fa-f37b-4e8b-b8ae-87bed4f56c9b",
   "metadata": {},
   "outputs": [
    {
     "data": {
      "text/plain": [
       "36264"
      ]
     },
     "execution_count": 49,
     "metadata": {},
     "output_type": "execute_result"
    }
   ],
   "source": [
    "freqPrefixRDD.max()"
   ]
  },
  {
   "cell_type": "markdown",
   "id": "c0439a1d-1f49-4541-92b1-7d989920cc68",
   "metadata": {},
   "source": [
    "#### 1.1.3 Report the code of 3 different ways to solve the task number 1.1.2 (we only want the frequency, i.e., a number and not a tuple/list)"
   ]
  },
  {
   "cell_type": "code",
   "execution_count": 50,
   "id": "5b571933-08f0-423d-902a-a9c26b8e0850",
   "metadata": {},
   "outputs": [
    {
     "name": "stdout",
     "output_type": "stream",
     "text": [
      "36264\n"
     ]
    }
   ],
   "source": [
    "maxFreqPrefix = freqPrefixRDD.top(1)\n",
    "print(maxFreqPrefix[0])"
   ]
  },
  {
   "cell_type": "code",
   "execution_count": 51,
   "id": "a94d3c77-b071-4228-8d75-06093d69a93e",
   "metadata": {},
   "outputs": [
    {
     "name": "stdout",
     "output_type": "stream",
     "text": [
      "36264\n"
     ]
    }
   ],
   "source": [
    "maxFreqPrefix = PrefixWordRDD.max(lambda tup: tup[1])\n",
    "print(maxFreqPrefix[1])"
   ]
  },
  {
   "cell_type": "code",
   "execution_count": 53,
   "id": "e2d0f2a9-fbe1-419f-9cf6-e912a26d7f85",
   "metadata": {},
   "outputs": [
    {
     "name": "stdout",
     "output_type": "stream",
     "text": [
      "36264\n"
     ]
    }
   ],
   "source": [
    "maxFreqPrefix = freqPrefixRDD.max()\n",
    "print(maxFreqPrefix)"
   ]
  },
  {
   "cell_type": "markdown",
   "id": "b752dd87-d3ec-42aa-9f17-f794b44c49cd",
   "metadata": {},
   "source": [
    "### 1.2 Filter most frequent words"
   ]
  },
  {
   "cell_type": "code",
   "execution_count": 55,
   "id": "affae6d4-6461-4ab9-b554-0e8c0d219423",
   "metadata": {},
   "outputs": [],
   "source": [
    "maxfreqPercentage = 0.7\n",
    "mostfrequentRDD = PrefixWordRDD.filter\\\n",
    "(lambda freq: freq[1] >= maxfreqPercentage*maxFreqPrefix)"
   ]
  },
  {
   "cell_type": "markdown",
   "id": "db7b084c-1ded-452d-a7f9-2d49e7268699",
   "metadata": {},
   "source": [
    "### 1.3 Count the remaining words and save the output"
   ]
  },
  {
   "cell_type": "markdown",
   "id": "7f9179c7-ce91-4819-99a0-c3889bdb22f8",
   "metadata": {},
   "source": [
    "#### 1.3.1 Count the number of selected lines and print this number on the standard output."
   ]
  },
  {
   "cell_type": "code",
   "execution_count": 57,
   "id": "57279979-7f26-461a-ac99-f0ffa958302a",
   "metadata": {},
   "outputs": [
    {
     "name": "stdout",
     "output_type": "stream",
     "text": [
      "Most frequent words:  2\n"
     ]
    }
   ],
   "source": [
    "print(\"Most frequent words: \",mostfrequentRDD.count())"
   ]
  },
  {
   "cell_type": "markdown",
   "id": "38bbdb2f-1a26-4544-84fd-1ef5d19cd00f",
   "metadata": {},
   "source": [
    "#### 1.3.2 Save the selected words (without frequency) in an hdfs output folder. Every line should contain a single word and ends with a semicolumn (`;`)."
   ]
  },
  {
   "cell_type": "code",
   "execution_count": 121,
   "id": "e3dc9081-210b-467a-9d85-5d10212dcc17",
   "metadata": {},
   "outputs": [
    {
     "name": "stderr",
     "output_type": "stream",
     "text": [
      "                                                                                \r"
     ]
    }
   ],
   "source": [
    "saveRDD = mostfrequentRDD.map(lambda word: f\"{word[0]};\")\n",
    "saveRDD.saveAsTextFile(\"/user/s309709/LAB02/es1\")"
   ]
  },
  {
   "cell_type": "markdown",
   "id": "1f1c3180-ddb8-4aa0-92bc-45fc246db71c",
   "metadata": {},
   "source": [
    "## 2. Run the application in different ways"
   ]
  },
  {
   "cell_type": "markdown",
   "id": "78138e1a-58f0-478c-94c5-a5e272e364a8",
   "metadata": {},
   "source": [
    "#### 2.1 Run your script locally and in the cluster (--master option). How much time do the two modes require to run? Is there a difference? Can you give a plausible explanation?\n",
    "The time taken to run locally is 4,5 seconds, while on the cluster is almost 17 seconds. A plausible explanation for this is that beacuse the driver is executed on the cluster and we need to send data on the network\n"
   ]
  },
  {
   "cell_type": "markdown",
   "id": "048f2703-2957-43e2-bad6-587e864c4959",
   "metadata": {},
   "source": [
    "#### Code of the python script\n",
    "from pyspark import SparkConf, SparkContext\n",
    "import time\n",
    "import sys\n",
    "\n",
    "start = time.time()\n",
    "\n",
    "conf = SparkConf().setAppName(\"My app\")\n",
    "sc = SparkContext(conf = conf)\n",
    "prefix = sys.argv[1]\n",
    "outputPath = sys.argv[2]\n",
    "\n",
    "rdd = sc.textFile(\"/data/students/bigdata_internet/lab2/word_frequency.tsv\")\n",
    "splitRDD = rdd.map(lambda l: (l.split(\"\\t\")[0], int(l.split(\"\\t\")[1])))\n",
    "\n",
    "PrefixWordRDD = splitRDD.filter(lambda word: word[0].startswith(prefix))\n",
    "toPrintRDD = PrefixWordRDD.map(lambda word: f\"{word[0]} - {word[1]},\")\n",
    "\n",
    "toPrintRDD.saveAsTextFile(outputPath)\n",
    "\n",
    "stop = time.time()\n",
    "print(f\"Program took {stop - start} seconds to run\")\n"
   ]
  },
  {
   "cell_type": "markdown",
   "id": "11277fdf-8173-44b2-ae13-738148884744",
   "metadata": {},
   "source": [
    "#### 2.2 In this application, would caching an RDD increase the performance? If yes, which RDD would you cache?\n",
    "In this case caching would be useless beacuse only one action is performed, that is *saveAsTextFile()*"
   ]
  },
  {
   "cell_type": "markdown",
   "id": "bf59133a-b9cf-4d34-8d80-11a184d4a383",
   "metadata": {},
   "source": [
    "## 3. Bonus Task"
   ]
  },
  {
   "cell_type": "code",
   "execution_count": 61,
   "id": "bddbc1fe-2dd5-403f-801a-abe5904de364",
   "metadata": {},
   "outputs": [],
   "source": [
    "rdd = sc.textFile\\\n",
    "(\"/data/students/bigdata_internet/lab2/finefoods_text.txt\") "
   ]
  },
  {
   "cell_type": "code",
   "execution_count": 18,
   "id": "6a230b80-f009-4102-8d6f-98a570f54f4f",
   "metadata": {},
   "outputs": [],
   "source": [
    "splitRDD = rdd.flatMap(lambda l: l.split())"
   ]
  },
  {
   "cell_type": "markdown",
   "id": "53a4c212-4d63-485c-9aa4-4cb37104da5b",
   "metadata": {},
   "source": [
    "#### 3.1 How many words (with repetitions) does it contain? Consider a word all the characters between spaces (elements found with `split()` method)"
   ]
  },
  {
   "cell_type": "code",
   "execution_count": 59,
   "id": "16b8df8e-068c-4d3d-97a9-5948a2bf8949",
   "metadata": {},
   "outputs": [
    {
     "name": "stdout",
     "output_type": "stream",
     "text": [
      "Number of words with repetitions:  339819\n"
     ]
    }
   ],
   "source": [
    "n_words = splitRDD.count()\n",
    "print(\"Number of words with repetitions: \", n_words)"
   ]
  },
  {
   "cell_type": "markdown",
   "id": "4372ea13-1a68-4fc4-af2d-43f5ddd645d0",
   "metadata": {},
   "source": [
    "#### 3.2 Report the code to obtain the word frequency file starting from the original file."
   ]
  },
  {
   "cell_type": "code",
   "execution_count": 62,
   "id": "0a1d0ea6-de29-4125-b835-68634732e882",
   "metadata": {},
   "outputs": [
    {
     "name": "stderr",
     "output_type": "stream",
     "text": [
      "                                                                                \r"
     ]
    },
    {
     "name": "stdout",
     "output_type": "stream",
     "text": [
      "[\"('LIVE', 93)\\t1\", \"('time~', 7)\\t1\", \"('romaine', 33)\\t1\", \"('rangetop', 1)\\t1\", \"('messure', 1)\\t1\"]\n"
     ]
    }
   ],
   "source": [
    "# map the words adding a 1 to count the number of occurence\n",
    "wordsRDD = splitRDD.map(lambda word: (word, 1))\n",
    "# use the words as keys and sum the values to obtain the occurence\n",
    "distincWordsRDD = wordsRDD.reduceByKey(lambda v1,v2: int(v1) + int(v2))\n",
    "# map in the requested format\n",
    "formatRDD = distincWordsRDD.map(lambda v: f\"{v[0]}\\t{v[1]}\")\n",
    "print(formatRDD.takeSample(False, 5))"
   ]
  }
 ],
 "metadata": {
  "kernelspec": {
   "display_name": "PySpark (Local)",
   "language": "python",
   "name": "pyspark_local"
  },
  "language_info": {
   "codemirror_mode": {
    "name": "ipython",
    "version": 3
   },
   "file_extension": ".py",
   "mimetype": "text/x-python",
   "name": "python",
   "nbconvert_exporter": "python",
   "pygments_lexer": "ipython3",
   "version": "3.7.9"
  }
 },
 "nbformat": 4,
 "nbformat_minor": 5
}
